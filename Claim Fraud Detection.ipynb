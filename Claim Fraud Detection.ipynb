{
 "cells": [
  {
   "cell_type": "code",
   "execution_count": 3,
   "id": "9b3c7684-e44d-4913-aa9a-da8330b2d4f9",
   "metadata": {},
   "outputs": [],
   "source": [
    "import numpy as np\n",
    "import pandas as pd\n",
    "import seaborn as sns"
   ]
  },
  {
   "cell_type": "code",
   "execution_count": 4,
   "id": "1eada0d9-be06-4c67-b625-00561bc732aa",
   "metadata": {},
   "outputs": [],
   "source": [
    "df = pd.read_csv('train_2021.csv')"
   ]
  },
  {
   "cell_type": "code",
   "execution_count": 5,
   "id": "5685778d-36d1-4d95-b4b6-d518a20c9ba1",
   "metadata": {},
   "outputs": [
    {
     "data": {
      "text/html": [
       "<div>\n",
       "<style scoped>\n",
       "    .dataframe tbody tr th:only-of-type {\n",
       "        vertical-align: middle;\n",
       "    }\n",
       "\n",
       "    .dataframe tbody tr th {\n",
       "        vertical-align: top;\n",
       "    }\n",
       "\n",
       "    .dataframe thead th {\n",
       "        text-align: right;\n",
       "    }\n",
       "</style>\n",
       "<table border=\"1\" class=\"dataframe\">\n",
       "  <thead>\n",
       "    <tr style=\"text-align: right;\">\n",
       "      <th></th>\n",
       "      <th>claim_number</th>\n",
       "      <th>age_of_driver</th>\n",
       "      <th>gender</th>\n",
       "      <th>marital_status</th>\n",
       "      <th>safty_rating</th>\n",
       "      <th>annual_income</th>\n",
       "      <th>high_education_ind</th>\n",
       "      <th>address_change_ind</th>\n",
       "      <th>living_status</th>\n",
       "      <th>zip_code</th>\n",
       "      <th>...</th>\n",
       "      <th>liab_prct</th>\n",
       "      <th>channel</th>\n",
       "      <th>policy_report_filed_ind</th>\n",
       "      <th>claim_est_payout</th>\n",
       "      <th>age_of_vehicle</th>\n",
       "      <th>vehicle_category</th>\n",
       "      <th>vehicle_price</th>\n",
       "      <th>vehicle_color</th>\n",
       "      <th>vehicle_weight</th>\n",
       "      <th>fraud</th>\n",
       "    </tr>\n",
       "  </thead>\n",
       "  <tbody>\n",
       "    <tr>\n",
       "      <th>0</th>\n",
       "      <td>1</td>\n",
       "      <td>46</td>\n",
       "      <td>M</td>\n",
       "      <td>1.0</td>\n",
       "      <td>85</td>\n",
       "      <td>38301</td>\n",
       "      <td>1</td>\n",
       "      <td>1</td>\n",
       "      <td>Rent</td>\n",
       "      <td>80006</td>\n",
       "      <td>...</td>\n",
       "      <td>74</td>\n",
       "      <td>Broker</td>\n",
       "      <td>0</td>\n",
       "      <td>7530.940993</td>\n",
       "      <td>9.0</td>\n",
       "      <td>Compact</td>\n",
       "      <td>12885.45235</td>\n",
       "      <td>white</td>\n",
       "      <td>16161.33381</td>\n",
       "      <td>0</td>\n",
       "    </tr>\n",
       "    <tr>\n",
       "      <th>1</th>\n",
       "      <td>3</td>\n",
       "      <td>21</td>\n",
       "      <td>F</td>\n",
       "      <td>0.0</td>\n",
       "      <td>75</td>\n",
       "      <td>30445</td>\n",
       "      <td>0</td>\n",
       "      <td>1</td>\n",
       "      <td>Rent</td>\n",
       "      <td>15021</td>\n",
       "      <td>...</td>\n",
       "      <td>79</td>\n",
       "      <td>Online</td>\n",
       "      <td>0</td>\n",
       "      <td>2966.024895</td>\n",
       "      <td>4.0</td>\n",
       "      <td>Large</td>\n",
       "      <td>29429.45218</td>\n",
       "      <td>white</td>\n",
       "      <td>28691.96422</td>\n",
       "      <td>0</td>\n",
       "    </tr>\n",
       "    <tr>\n",
       "      <th>2</th>\n",
       "      <td>4</td>\n",
       "      <td>49</td>\n",
       "      <td>F</td>\n",
       "      <td>0.0</td>\n",
       "      <td>87</td>\n",
       "      <td>38923</td>\n",
       "      <td>0</td>\n",
       "      <td>1</td>\n",
       "      <td>Own</td>\n",
       "      <td>20158</td>\n",
       "      <td>...</td>\n",
       "      <td>0</td>\n",
       "      <td>Broker</td>\n",
       "      <td>0</td>\n",
       "      <td>6283.888333</td>\n",
       "      <td>3.0</td>\n",
       "      <td>Compact</td>\n",
       "      <td>21701.18195</td>\n",
       "      <td>white</td>\n",
       "      <td>22090.94758</td>\n",
       "      <td>1</td>\n",
       "    </tr>\n",
       "    <tr>\n",
       "      <th>3</th>\n",
       "      <td>5</td>\n",
       "      <td>58</td>\n",
       "      <td>F</td>\n",
       "      <td>1.0</td>\n",
       "      <td>58</td>\n",
       "      <td>40605</td>\n",
       "      <td>1</td>\n",
       "      <td>0</td>\n",
       "      <td>Own</td>\n",
       "      <td>15024</td>\n",
       "      <td>...</td>\n",
       "      <td>99</td>\n",
       "      <td>Broker</td>\n",
       "      <td>1</td>\n",
       "      <td>6169.747994</td>\n",
       "      <td>4.0</td>\n",
       "      <td>Medium</td>\n",
       "      <td>13198.27344</td>\n",
       "      <td>other</td>\n",
       "      <td>38329.58106</td>\n",
       "      <td>1</td>\n",
       "    </tr>\n",
       "    <tr>\n",
       "      <th>4</th>\n",
       "      <td>6</td>\n",
       "      <td>38</td>\n",
       "      <td>M</td>\n",
       "      <td>1.0</td>\n",
       "      <td>95</td>\n",
       "      <td>36380</td>\n",
       "      <td>1</td>\n",
       "      <td>0</td>\n",
       "      <td>Rent</td>\n",
       "      <td>50034</td>\n",
       "      <td>...</td>\n",
       "      <td>7</td>\n",
       "      <td>Broker</td>\n",
       "      <td>0</td>\n",
       "      <td>4541.387150</td>\n",
       "      <td>7.0</td>\n",
       "      <td>Medium</td>\n",
       "      <td>38060.21122</td>\n",
       "      <td>gray</td>\n",
       "      <td>25876.56319</td>\n",
       "      <td>0</td>\n",
       "    </tr>\n",
       "  </tbody>\n",
       "</table>\n",
       "<p>5 rows × 25 columns</p>\n",
       "</div>"
      ],
      "text/plain": [
       "   claim_number  age_of_driver gender  marital_status  safty_rating  \\\n",
       "0             1             46      M             1.0            85   \n",
       "1             3             21      F             0.0            75   \n",
       "2             4             49      F             0.0            87   \n",
       "3             5             58      F             1.0            58   \n",
       "4             6             38      M             1.0            95   \n",
       "\n",
       "   annual_income  high_education_ind  address_change_ind living_status  \\\n",
       "0          38301                   1                   1          Rent   \n",
       "1          30445                   0                   1          Rent   \n",
       "2          38923                   0                   1           Own   \n",
       "3          40605                   1                   0           Own   \n",
       "4          36380                   1                   0          Rent   \n",
       "\n",
       "   zip_code  ... liab_prct channel policy_report_filed_ind  claim_est_payout  \\\n",
       "0     80006  ...        74  Broker                       0       7530.940993   \n",
       "1     15021  ...        79  Online                       0       2966.024895   \n",
       "2     20158  ...         0  Broker                       0       6283.888333   \n",
       "3     15024  ...        99  Broker                       1       6169.747994   \n",
       "4     50034  ...         7  Broker                       0       4541.387150   \n",
       "\n",
       "   age_of_vehicle  vehicle_category vehicle_price  vehicle_color  \\\n",
       "0             9.0           Compact   12885.45235          white   \n",
       "1             4.0             Large   29429.45218          white   \n",
       "2             3.0           Compact   21701.18195          white   \n",
       "3             4.0            Medium   13198.27344          other   \n",
       "4             7.0            Medium   38060.21122           gray   \n",
       "\n",
       "   vehicle_weight  fraud  \n",
       "0     16161.33381      0  \n",
       "1     28691.96422      0  \n",
       "2     22090.94758      1  \n",
       "3     38329.58106      1  \n",
       "4     25876.56319      0  \n",
       "\n",
       "[5 rows x 25 columns]"
      ]
     },
     "execution_count": 5,
     "metadata": {},
     "output_type": "execute_result"
    }
   ],
   "source": [
    "df.head()"
   ]
  },
  {
   "cell_type": "code",
   "execution_count": 6,
   "id": "b8b8502a-56da-45b4-b2e9-9b96bc25af36",
   "metadata": {},
   "outputs": [
    {
     "data": {
      "text/plain": [
       "Index(['claim_number', 'age_of_driver', 'gender', 'marital_status',\n",
       "       'safty_rating', 'annual_income', 'high_education_ind',\n",
       "       'address_change_ind', 'living_status', 'zip_code', 'claim_date',\n",
       "       'claim_day_of_week', 'accident_site', 'past_num_of_claims',\n",
       "       'witness_present_ind', 'liab_prct', 'channel',\n",
       "       'policy_report_filed_ind', 'claim_est_payout', 'age_of_vehicle',\n",
       "       'vehicle_category', 'vehicle_price', 'vehicle_color', 'vehicle_weight',\n",
       "       'fraud'],\n",
       "      dtype='object')"
      ]
     },
     "execution_count": 6,
     "metadata": {},
     "output_type": "execute_result"
    }
   ],
   "source": [
    "df.columns"
   ]
  },
  {
   "cell_type": "code",
   "execution_count": 7,
   "id": "675ebdb5-5327-4f41-be64-ca5b7c1d7d6e",
   "metadata": {},
   "outputs": [
    {
     "data": {
      "text/plain": [
       "(17998, 25)"
      ]
     },
     "execution_count": 7,
     "metadata": {},
     "output_type": "execute_result"
    }
   ],
   "source": [
    "df.shape"
   ]
  },
  {
   "cell_type": "code",
   "execution_count": 8,
   "id": "9a0220cc-0510-4424-a31a-dc913223b5d3",
   "metadata": {},
   "outputs": [
    {
     "name": "stdout",
     "output_type": "stream",
     "text": [
      "<class 'pandas.core.frame.DataFrame'>\n",
      "RangeIndex: 17998 entries, 0 to 17997\n",
      "Data columns (total 25 columns):\n",
      " #   Column                   Non-Null Count  Dtype  \n",
      "---  ------                   --------------  -----  \n",
      " 0   claim_number             17998 non-null  int64  \n",
      " 1   age_of_driver            17998 non-null  int64  \n",
      " 2   gender                   17998 non-null  object \n",
      " 3   marital_status           17993 non-null  float64\n",
      " 4   safty_rating             17998 non-null  int64  \n",
      " 5   annual_income            17998 non-null  int64  \n",
      " 6   high_education_ind       17998 non-null  int64  \n",
      " 7   address_change_ind       17998 non-null  int64  \n",
      " 8   living_status            17998 non-null  object \n",
      " 9   zip_code                 17998 non-null  int64  \n",
      " 10  claim_date               17998 non-null  object \n",
      " 11  claim_day_of_week        17998 non-null  object \n",
      " 12  accident_site            17998 non-null  object \n",
      " 13  past_num_of_claims       17998 non-null  int64  \n",
      " 14  witness_present_ind      17866 non-null  float64\n",
      " 15  liab_prct                17998 non-null  int64  \n",
      " 16  channel                  17998 non-null  object \n",
      " 17  policy_report_filed_ind  17998 non-null  int64  \n",
      " 18  claim_est_payout         17981 non-null  float64\n",
      " 19  age_of_vehicle           17990 non-null  float64\n",
      " 20  vehicle_category         17998 non-null  object \n",
      " 21  vehicle_price            17998 non-null  float64\n",
      " 22  vehicle_color            17998 non-null  object \n",
      " 23  vehicle_weight           17998 non-null  float64\n",
      " 24  fraud                    17998 non-null  int64  \n",
      "dtypes: float64(6), int64(11), object(8)\n",
      "memory usage: 3.4+ MB\n"
     ]
    }
   ],
   "source": [
    "df.info()"
   ]
  },
  {
   "cell_type": "code",
   "execution_count": 9,
   "id": "8b1d7c67-8700-46c7-994b-36a07c3532e7",
   "metadata": {},
   "outputs": [
    {
     "data": {
      "text/plain": [
       "claim_number                 int64\n",
       "age_of_driver                int64\n",
       "gender                      object\n",
       "marital_status             float64\n",
       "safty_rating                 int64\n",
       "annual_income                int64\n",
       "high_education_ind           int64\n",
       "address_change_ind           int64\n",
       "living_status               object\n",
       "zip_code                     int64\n",
       "claim_date                  object\n",
       "claim_day_of_week           object\n",
       "accident_site               object\n",
       "past_num_of_claims           int64\n",
       "witness_present_ind        float64\n",
       "liab_prct                    int64\n",
       "channel                     object\n",
       "policy_report_filed_ind      int64\n",
       "claim_est_payout           float64\n",
       "age_of_vehicle             float64\n",
       "vehicle_category            object\n",
       "vehicle_price              float64\n",
       "vehicle_color               object\n",
       "vehicle_weight             float64\n",
       "fraud                        int64\n",
       "dtype: object"
      ]
     },
     "execution_count": 9,
     "metadata": {},
     "output_type": "execute_result"
    }
   ],
   "source": [
    "df.dtypes"
   ]
  },
  {
   "cell_type": "code",
   "execution_count": 10,
   "id": "5b6fce2c-0cad-4130-af62-1a4e090961dc",
   "metadata": {},
   "outputs": [
    {
     "data": {
      "text/plain": [
       "claim_number               17998\n",
       "age_of_driver                 87\n",
       "gender                         2\n",
       "marital_status                 2\n",
       "safty_rating                 100\n",
       "annual_income               2693\n",
       "high_education_ind             2\n",
       "address_change_ind             2\n",
       "living_status                  2\n",
       "zip_code                     276\n",
       "claim_date                   731\n",
       "claim_day_of_week              7\n",
       "accident_site                  3\n",
       "past_num_of_claims             7\n",
       "witness_present_ind            2\n",
       "liab_prct                    101\n",
       "channel                        3\n",
       "policy_report_filed_ind        2\n",
       "claim_est_payout           17981\n",
       "age_of_vehicle                17\n",
       "vehicle_category               3\n",
       "vehicle_price              17998\n",
       "vehicle_color                  7\n",
       "vehicle_weight             17998\n",
       "fraud                          2\n",
       "dtype: int64"
      ]
     },
     "execution_count": 10,
     "metadata": {},
     "output_type": "execute_result"
    }
   ],
   "source": [
    "df.nunique()"
   ]
  },
  {
   "cell_type": "code",
   "execution_count": 11,
   "id": "bfd0409f-66cc-4b1f-a7c3-c9cf51f60bfa",
   "metadata": {},
   "outputs": [
    {
     "data": {
      "text/html": [
       "<div>\n",
       "<style scoped>\n",
       "    .dataframe tbody tr th:only-of-type {\n",
       "        vertical-align: middle;\n",
       "    }\n",
       "\n",
       "    .dataframe tbody tr th {\n",
       "        vertical-align: top;\n",
       "    }\n",
       "\n",
       "    .dataframe thead th {\n",
       "        text-align: right;\n",
       "    }\n",
       "</style>\n",
       "<table border=\"1\" class=\"dataframe\">\n",
       "  <thead>\n",
       "    <tr style=\"text-align: right;\">\n",
       "      <th></th>\n",
       "      <th>gender</th>\n",
       "      <th>living_status</th>\n",
       "      <th>claim_date</th>\n",
       "      <th>claim_day_of_week</th>\n",
       "      <th>accident_site</th>\n",
       "      <th>channel</th>\n",
       "      <th>vehicle_category</th>\n",
       "      <th>vehicle_color</th>\n",
       "    </tr>\n",
       "  </thead>\n",
       "  <tbody>\n",
       "    <tr>\n",
       "      <th>0</th>\n",
       "      <td>M</td>\n",
       "      <td>Rent</td>\n",
       "      <td>12/16/2016</td>\n",
       "      <td>Friday</td>\n",
       "      <td>Local</td>\n",
       "      <td>Broker</td>\n",
       "      <td>Compact</td>\n",
       "      <td>white</td>\n",
       "    </tr>\n",
       "    <tr>\n",
       "      <th>1</th>\n",
       "      <td>F</td>\n",
       "      <td>Rent</td>\n",
       "      <td>2/12/2015</td>\n",
       "      <td>Thursday</td>\n",
       "      <td>Highway</td>\n",
       "      <td>Online</td>\n",
       "      <td>Large</td>\n",
       "      <td>white</td>\n",
       "    </tr>\n",
       "    <tr>\n",
       "      <th>2</th>\n",
       "      <td>F</td>\n",
       "      <td>Own</td>\n",
       "      <td>12/6/2016</td>\n",
       "      <td>Tuesday</td>\n",
       "      <td>Local</td>\n",
       "      <td>Broker</td>\n",
       "      <td>Compact</td>\n",
       "      <td>white</td>\n",
       "    </tr>\n",
       "    <tr>\n",
       "      <th>3</th>\n",
       "      <td>F</td>\n",
       "      <td>Own</td>\n",
       "      <td>5/5/2016</td>\n",
       "      <td>Thursday</td>\n",
       "      <td>Local</td>\n",
       "      <td>Broker</td>\n",
       "      <td>Medium</td>\n",
       "      <td>other</td>\n",
       "    </tr>\n",
       "    <tr>\n",
       "      <th>4</th>\n",
       "      <td>M</td>\n",
       "      <td>Rent</td>\n",
       "      <td>10/27/2015</td>\n",
       "      <td>Tuesday</td>\n",
       "      <td>Highway</td>\n",
       "      <td>Broker</td>\n",
       "      <td>Medium</td>\n",
       "      <td>gray</td>\n",
       "    </tr>\n",
       "    <tr>\n",
       "      <th>...</th>\n",
       "      <td>...</td>\n",
       "      <td>...</td>\n",
       "      <td>...</td>\n",
       "      <td>...</td>\n",
       "      <td>...</td>\n",
       "      <td>...</td>\n",
       "      <td>...</td>\n",
       "      <td>...</td>\n",
       "    </tr>\n",
       "    <tr>\n",
       "      <th>17993</th>\n",
       "      <td>M</td>\n",
       "      <td>Own</td>\n",
       "      <td>3/28/2015</td>\n",
       "      <td>Saturday</td>\n",
       "      <td>Local</td>\n",
       "      <td>Broker</td>\n",
       "      <td>Medium</td>\n",
       "      <td>black</td>\n",
       "    </tr>\n",
       "    <tr>\n",
       "      <th>17994</th>\n",
       "      <td>F</td>\n",
       "      <td>Own</td>\n",
       "      <td>1/5/2015</td>\n",
       "      <td>Monday</td>\n",
       "      <td>Local</td>\n",
       "      <td>Phone</td>\n",
       "      <td>Medium</td>\n",
       "      <td>blue</td>\n",
       "    </tr>\n",
       "    <tr>\n",
       "      <th>17995</th>\n",
       "      <td>F</td>\n",
       "      <td>Rent</td>\n",
       "      <td>9/10/2016</td>\n",
       "      <td>Saturday</td>\n",
       "      <td>Local</td>\n",
       "      <td>Online</td>\n",
       "      <td>Medium</td>\n",
       "      <td>black</td>\n",
       "    </tr>\n",
       "    <tr>\n",
       "      <th>17996</th>\n",
       "      <td>F</td>\n",
       "      <td>Own</td>\n",
       "      <td>12/25/2015</td>\n",
       "      <td>Friday</td>\n",
       "      <td>Highway</td>\n",
       "      <td>Broker</td>\n",
       "      <td>Compact</td>\n",
       "      <td>white</td>\n",
       "    </tr>\n",
       "    <tr>\n",
       "      <th>17997</th>\n",
       "      <td>F</td>\n",
       "      <td>Rent</td>\n",
       "      <td>9/26/2016</td>\n",
       "      <td>Monday</td>\n",
       "      <td>Parking Lot</td>\n",
       "      <td>Phone</td>\n",
       "      <td>Medium</td>\n",
       "      <td>blue</td>\n",
       "    </tr>\n",
       "  </tbody>\n",
       "</table>\n",
       "<p>17998 rows × 8 columns</p>\n",
       "</div>"
      ],
      "text/plain": [
       "      gender living_status  claim_date claim_day_of_week accident_site  \\\n",
       "0          M          Rent  12/16/2016            Friday         Local   \n",
       "1          F          Rent   2/12/2015          Thursday       Highway   \n",
       "2          F           Own   12/6/2016           Tuesday         Local   \n",
       "3          F           Own    5/5/2016          Thursday         Local   \n",
       "4          M          Rent  10/27/2015           Tuesday       Highway   \n",
       "...      ...           ...         ...               ...           ...   \n",
       "17993      M           Own   3/28/2015          Saturday         Local   \n",
       "17994      F           Own    1/5/2015            Monday         Local   \n",
       "17995      F          Rent   9/10/2016          Saturday         Local   \n",
       "17996      F           Own  12/25/2015            Friday       Highway   \n",
       "17997      F          Rent   9/26/2016            Monday   Parking Lot   \n",
       "\n",
       "      channel vehicle_category vehicle_color  \n",
       "0      Broker          Compact         white  \n",
       "1      Online            Large         white  \n",
       "2      Broker          Compact         white  \n",
       "3      Broker           Medium         other  \n",
       "4      Broker           Medium          gray  \n",
       "...       ...              ...           ...  \n",
       "17993  Broker           Medium         black  \n",
       "17994   Phone           Medium          blue  \n",
       "17995  Online           Medium         black  \n",
       "17996  Broker          Compact         white  \n",
       "17997   Phone           Medium          blue  \n",
       "\n",
       "[17998 rows x 8 columns]"
      ]
     },
     "execution_count": 11,
     "metadata": {},
     "output_type": "execute_result"
    }
   ],
   "source": [
    "df[['gender','living_status','claim_date', 'claim_day_of_week','accident_site','channel','vehicle_category','vehicle_color']]"
   ]
  },
  {
   "cell_type": "markdown",
   "id": "d5ebea3f-eeb8-44f7-92e4-8cd0d9aeb45f",
   "metadata": {},
   "source": [
    "# Categorical Data"
   ]
  },
  {
   "cell_type": "code",
   "execution_count": 12,
   "id": "be572ace-e000-4b89-b0a6-ed828d5b8391",
   "metadata": {},
   "outputs": [
    {
     "data": {
      "text/plain": [
       "array(['M', 'F'], dtype=object)"
      ]
     },
     "execution_count": 12,
     "metadata": {},
     "output_type": "execute_result"
    }
   ],
   "source": [
    "df['gender'].unique()"
   ]
  },
  {
   "cell_type": "code",
   "execution_count": 13,
   "id": "553eff64-25d6-4ab1-946d-c58cf0b9c4be",
   "metadata": {},
   "outputs": [
    {
     "data": {
      "text/plain": [
       "array(['Rent', 'Own'], dtype=object)"
      ]
     },
     "execution_count": 13,
     "metadata": {},
     "output_type": "execute_result"
    }
   ],
   "source": [
    "df['living_status'].unique()"
   ]
  },
  {
   "cell_type": "code",
   "execution_count": 14,
   "id": "08fd1f48-5f63-4559-8f73-415626135b8f",
   "metadata": {},
   "outputs": [
    {
     "data": {
      "text/plain": [
       "array(['Friday', 'Thursday', 'Tuesday', 'Wednesday', 'Saturday', 'Monday',\n",
       "       'Sunday'], dtype=object)"
      ]
     },
     "execution_count": 14,
     "metadata": {},
     "output_type": "execute_result"
    }
   ],
   "source": [
    "df['claim_day_of_week'].unique()"
   ]
  },
  {
   "cell_type": "code",
   "execution_count": 15,
   "id": "cbb0ed5b-7def-40f7-aac7-36ebd29ddbb4",
   "metadata": {},
   "outputs": [
    {
     "data": {
      "text/plain": [
       "array(['Local', 'Highway', 'Parking Lot'], dtype=object)"
      ]
     },
     "execution_count": 15,
     "metadata": {},
     "output_type": "execute_result"
    }
   ],
   "source": [
    "df['accident_site'].unique()"
   ]
  },
  {
   "cell_type": "code",
   "execution_count": 16,
   "id": "a29c034e-2451-4c61-86bd-18e51b9fb77b",
   "metadata": {},
   "outputs": [
    {
     "data": {
      "text/plain": [
       "array(['Broker', 'Online', 'Phone'], dtype=object)"
      ]
     },
     "execution_count": 16,
     "metadata": {},
     "output_type": "execute_result"
    }
   ],
   "source": [
    "df['channel'].unique()"
   ]
  },
  {
   "cell_type": "code",
   "execution_count": 17,
   "id": "7db6803a-5ca9-419b-9bd0-f93a399ccc86",
   "metadata": {},
   "outputs": [
    {
     "data": {
      "text/plain": [
       "array(['Compact', 'Large', 'Medium'], dtype=object)"
      ]
     },
     "execution_count": 17,
     "metadata": {},
     "output_type": "execute_result"
    }
   ],
   "source": [
    "df['vehicle_category'].unique()"
   ]
  },
  {
   "cell_type": "code",
   "execution_count": 18,
   "id": "46bd7250-1be2-4e1d-933d-c0d02c80296d",
   "metadata": {},
   "outputs": [
    {
     "data": {
      "text/plain": [
       "array(['white', 'other', 'gray', 'black', 'red', 'blue', 'silver'],\n",
       "      dtype=object)"
      ]
     },
     "execution_count": 18,
     "metadata": {},
     "output_type": "execute_result"
    }
   ],
   "source": [
    "df['vehicle_color'].unique()"
   ]
  },
  {
   "cell_type": "code",
   "execution_count": 19,
   "id": "8ccfa20e-75e4-4065-9528-c9bf56405fd1",
   "metadata": {},
   "outputs": [
    {
     "data": {
      "text/plain": [
       "0    15182\n",
       "1     2816\n",
       "Name: fraud, dtype: int64"
      ]
     },
     "execution_count": 19,
     "metadata": {},
     "output_type": "execute_result"
    }
   ],
   "source": [
    "df['fraud'].value_counts()"
   ]
  },
  {
   "cell_type": "markdown",
   "id": "e1be95d8-8be8-4675-9b1b-a96cde53b62a",
   "metadata": {},
   "source": [
    "# Missing or Null Values"
   ]
  },
  {
   "cell_type": "code",
   "execution_count": 20,
   "id": "5918b573-ef40-4da8-9459-fceaf536953b",
   "metadata": {},
   "outputs": [
    {
     "data": {
      "text/plain": [
       "claim_number                 0\n",
       "age_of_driver                0\n",
       "gender                       0\n",
       "marital_status               5\n",
       "safty_rating                 0\n",
       "annual_income                0\n",
       "high_education_ind           0\n",
       "address_change_ind           0\n",
       "living_status                0\n",
       "zip_code                     0\n",
       "claim_date                   0\n",
       "claim_day_of_week            0\n",
       "accident_site                0\n",
       "past_num_of_claims           0\n",
       "witness_present_ind        132\n",
       "liab_prct                    0\n",
       "channel                      0\n",
       "policy_report_filed_ind      0\n",
       "claim_est_payout            17\n",
       "age_of_vehicle               8\n",
       "vehicle_category             0\n",
       "vehicle_price                0\n",
       "vehicle_color                0\n",
       "vehicle_weight               0\n",
       "fraud                        0\n",
       "dtype: int64"
      ]
     },
     "execution_count": 20,
     "metadata": {},
     "output_type": "execute_result"
    }
   ],
   "source": [
    "df.isna().sum()"
   ]
  },
  {
   "cell_type": "code",
   "execution_count": 21,
   "id": "c0e86207-ffdd-46be-a2b0-44db71ed7df4",
   "metadata": {},
   "outputs": [
    {
     "data": {
      "text/html": [
       "<div>\n",
       "<style scoped>\n",
       "    .dataframe tbody tr th:only-of-type {\n",
       "        vertical-align: middle;\n",
       "    }\n",
       "\n",
       "    .dataframe tbody tr th {\n",
       "        vertical-align: top;\n",
       "    }\n",
       "\n",
       "    .dataframe thead th {\n",
       "        text-align: right;\n",
       "    }\n",
       "</style>\n",
       "<table border=\"1\" class=\"dataframe\">\n",
       "  <thead>\n",
       "    <tr style=\"text-align: right;\">\n",
       "      <th></th>\n",
       "      <th>marital_status</th>\n",
       "      <th>witness_present_ind</th>\n",
       "      <th>claim_est_payout</th>\n",
       "      <th>age_of_vehicle</th>\n",
       "    </tr>\n",
       "  </thead>\n",
       "  <tbody>\n",
       "    <tr>\n",
       "      <th>141</th>\n",
       "      <td>1.0</td>\n",
       "      <td>NaN</td>\n",
       "      <td>5772.098498</td>\n",
       "      <td>13.0</td>\n",
       "    </tr>\n",
       "    <tr>\n",
       "      <th>166</th>\n",
       "      <td>1.0</td>\n",
       "      <td>NaN</td>\n",
       "      <td>2990.342285</td>\n",
       "      <td>4.0</td>\n",
       "    </tr>\n",
       "    <tr>\n",
       "      <th>317</th>\n",
       "      <td>1.0</td>\n",
       "      <td>1.0</td>\n",
       "      <td>NaN</td>\n",
       "      <td>9.0</td>\n",
       "    </tr>\n",
       "    <tr>\n",
       "      <th>329</th>\n",
       "      <td>1.0</td>\n",
       "      <td>NaN</td>\n",
       "      <td>4392.548424</td>\n",
       "      <td>5.0</td>\n",
       "    </tr>\n",
       "    <tr>\n",
       "      <th>359</th>\n",
       "      <td>1.0</td>\n",
       "      <td>0.0</td>\n",
       "      <td>1689.083898</td>\n",
       "      <td>NaN</td>\n",
       "    </tr>\n",
       "    <tr>\n",
       "      <th>...</th>\n",
       "      <td>...</td>\n",
       "      <td>...</td>\n",
       "      <td>...</td>\n",
       "      <td>...</td>\n",
       "    </tr>\n",
       "    <tr>\n",
       "      <th>17623</th>\n",
       "      <td>1.0</td>\n",
       "      <td>1.0</td>\n",
       "      <td>NaN</td>\n",
       "      <td>1.0</td>\n",
       "    </tr>\n",
       "    <tr>\n",
       "      <th>17626</th>\n",
       "      <td>0.0</td>\n",
       "      <td>NaN</td>\n",
       "      <td>4404.299536</td>\n",
       "      <td>3.0</td>\n",
       "    </tr>\n",
       "    <tr>\n",
       "      <th>17685</th>\n",
       "      <td>1.0</td>\n",
       "      <td>NaN</td>\n",
       "      <td>4255.562069</td>\n",
       "      <td>2.0</td>\n",
       "    </tr>\n",
       "    <tr>\n",
       "      <th>17788</th>\n",
       "      <td>1.0</td>\n",
       "      <td>NaN</td>\n",
       "      <td>4752.336111</td>\n",
       "      <td>5.0</td>\n",
       "    </tr>\n",
       "    <tr>\n",
       "      <th>17845</th>\n",
       "      <td>1.0</td>\n",
       "      <td>NaN</td>\n",
       "      <td>3185.094426</td>\n",
       "      <td>8.0</td>\n",
       "    </tr>\n",
       "  </tbody>\n",
       "</table>\n",
       "<p>162 rows × 4 columns</p>\n",
       "</div>"
      ],
      "text/plain": [
       "       marital_status  witness_present_ind  claim_est_payout  age_of_vehicle\n",
       "141               1.0                  NaN       5772.098498            13.0\n",
       "166               1.0                  NaN       2990.342285             4.0\n",
       "317               1.0                  1.0               NaN             9.0\n",
       "329               1.0                  NaN       4392.548424             5.0\n",
       "359               1.0                  0.0       1689.083898             NaN\n",
       "...               ...                  ...               ...             ...\n",
       "17623             1.0                  1.0               NaN             1.0\n",
       "17626             0.0                  NaN       4404.299536             3.0\n",
       "17685             1.0                  NaN       4255.562069             2.0\n",
       "17788             1.0                  NaN       4752.336111             5.0\n",
       "17845             1.0                  NaN       3185.094426             8.0\n",
       "\n",
       "[162 rows x 4 columns]"
      ]
     },
     "execution_count": 21,
     "metadata": {},
     "output_type": "execute_result"
    }
   ],
   "source": [
    "df.loc[df.isnull().any(axis=1),['marital_status','witness_present_ind','claim_est_payout','age_of_vehicle']]"
   ]
  },
  {
   "cell_type": "code",
   "execution_count": 22,
   "id": "f0014696-2b9a-4cc0-9cb0-22a6f8b43c9b",
   "metadata": {},
   "outputs": [],
   "source": [
    "# Deleting the missing value rows\n",
    "# Because there are only 162 rows with missing values instead of corrupting the data by imputing values\n",
    "# deleting is the better option\n",
    "df.dropna(inplace=True)"
   ]
  },
  {
   "cell_type": "code",
   "execution_count": 23,
   "id": "b03eac31-3d13-43a3-9916-c6b5b7a46eb5",
   "metadata": {},
   "outputs": [
    {
     "data": {
      "text/plain": [
       "(17836, 25)"
      ]
     },
     "execution_count": 23,
     "metadata": {},
     "output_type": "execute_result"
    }
   ],
   "source": [
    "df.shape"
   ]
  },
  {
   "cell_type": "code",
   "execution_count": 24,
   "id": "c3f41d9a-949f-4f34-9f3e-8de4e4fc648a",
   "metadata": {},
   "outputs": [
    {
     "data": {
      "text/plain": [
       "claim_number               0\n",
       "age_of_driver              0\n",
       "gender                     0\n",
       "marital_status             0\n",
       "safty_rating               0\n",
       "annual_income              0\n",
       "high_education_ind         0\n",
       "address_change_ind         0\n",
       "living_status              0\n",
       "zip_code                   0\n",
       "claim_date                 0\n",
       "claim_day_of_week          0\n",
       "accident_site              0\n",
       "past_num_of_claims         0\n",
       "witness_present_ind        0\n",
       "liab_prct                  0\n",
       "channel                    0\n",
       "policy_report_filed_ind    0\n",
       "claim_est_payout           0\n",
       "age_of_vehicle             0\n",
       "vehicle_category           0\n",
       "vehicle_price              0\n",
       "vehicle_color              0\n",
       "vehicle_weight             0\n",
       "fraud                      0\n",
       "dtype: int64"
      ]
     },
     "execution_count": 24,
     "metadata": {},
     "output_type": "execute_result"
    }
   ],
   "source": [
    "df.isna().sum()"
   ]
  },
  {
   "cell_type": "markdown",
   "id": "2d1dbb89-230b-4c39-96fb-0e11941aef51",
   "metadata": {},
   "source": [
    "# Check for outliers"
   ]
  },
  {
   "cell_type": "code",
   "execution_count": 25,
   "id": "8acebcc5-baf2-4e0f-9264-89f5fcc55cfe",
   "metadata": {},
   "outputs": [
    {
     "name": "stderr",
     "output_type": "stream",
     "text": [
      "/opt/anaconda3/lib/python3.8/site-packages/seaborn/_decorators.py:36: FutureWarning: Pass the following variable as a keyword arg: x. From version 0.12, the only valid positional argument will be `data`, and passing other arguments without an explicit keyword will result in an error or misinterpretation.\n",
      "  warnings.warn(\n"
     ]
    },
    {
     "data": {
      "text/plain": [
       "<AxesSubplot:xlabel='age_of_driver'>"
      ]
     },
     "execution_count": 25,
     "metadata": {},
     "output_type": "execute_result"
    },
    {
     "data": {
      "image/png": "[encoded data removed]",
      "text/plain": [
       "<Figure size 432x288 with 1 Axes>"
      ]
     },
     "metadata": {
      "needs_background": "light"
     },
     "output_type": "display_data"
    }
   ],
   "source": [
    "sns.boxplot(df['age_of_driver'])"
   ]
  },
  {
   "cell_type": "code",
   "execution_count": 26,
   "id": "11802712-2b27-47a6-884d-ae85f93a1f09",
   "metadata": {},
   "outputs": [
    {
     "name": "stderr",
     "output_type": "stream",
     "text": [
      "/opt/anaconda3/lib/python3.8/site-packages/seaborn/_decorators.py:36: FutureWarning: Pass the following variable as a keyword arg: x. From version 0.12, the only valid positional argument will be `data`, and passing other arguments without an explicit keyword will result in an error or misinterpretation.\n",
      "  warnings.warn(\n"
     ]
    },
    {
     "data": {
      "text/plain": [
       "<AxesSubplot:xlabel='safty_rating'>"
      ]
     },
     "execution_count": 26,
     "metadata": {},
     "output_type": "execute_result"
    },
    {
     "data": {
      "image/png": "[encoded data removed]",
      "text/plain": [
       "<Figure size 432x288 with 1 Axes>"
      ]
     },
     "metadata": {
      "needs_background": "light"
     },
     "output_type": "display_data"
    }
   ],
   "source": [
    "sns.boxplot(df['safty_rating'])"
   ]
  },
  {
   "cell_type": "code",
   "execution_count": 27,
   "id": "78b838ac-7348-4aea-ae46-cc9ac850c953",
   "metadata": {},
   "outputs": [
    {
     "name": "stderr",
     "output_type": "stream",
     "text": [
      "/opt/anaconda3/lib/python3.8/site-packages/seaborn/_decorators.py:36: FutureWarning: Pass the following variable as a keyword arg: x. From version 0.12, the only valid positional argument will be `data`, and passing other arguments without an explicit keyword will result in an error or misinterpretation.\n",
      "  warnings.warn(\n"
     ]
    },
    {
     "data": {
      "text/plain": [
       "<AxesSubplot:xlabel='annual_income'>"
      ]
     },
     "execution_count": 27,
     "metadata": {},
     "output_type": "execute_result"
    },
    {
     "data": {
      "image/png": "[encoded data removed]",
      "text/plain": [
       "<Figure size 432x288 with 1 Axes>"
      ]
     },
     "metadata": {
      "needs_background": "light"
     },
     "output_type": "display_data"
    }
   ],
   "source": [
    "sns.boxplot(df['annual_income'])"
   ]
  },
  {
   "cell_type": "code",
   "execution_count": 28,
   "id": "f17d7fb2-8c06-475e-ad59-450133f8ef22",
   "metadata": {},
   "outputs": [
    {
     "name": "stderr",
     "output_type": "stream",
     "text": [
      "/opt/anaconda3/lib/python3.8/site-packages/seaborn/_decorators.py:36: FutureWarning: Pass the following variable as a keyword arg: x. From version 0.12, the only valid positional argument will be `data`, and passing other arguments without an explicit keyword will result in an error or misinterpretation.\n",
      "  warnings.warn(\n"
     ]
    },
    {
     "data": {
      "text/plain": [
       "<AxesSubplot:xlabel='liab_prct'>"
      ]
     },
     "execution_count": 28,
     "metadata": {},
     "output_type": "execute_result"
    },
    {
     "data": {
      "image/png": "[encoded data removed]",
      "text/plain": [
       "<Figure size 432x288 with 1 Axes>"
      ]
     },
     "metadata": {
      "needs_background": "light"
     },
     "output_type": "display_data"
    }
   ],
   "source": [
    "sns.boxplot(df['liab_prct'])"
   ]
  },
  {
   "cell_type": "code",
   "execution_count": 29,
   "id": "23818f49-69ec-4aa2-973c-302dc85b1901",
   "metadata": {},
   "outputs": [
    {
     "name": "stderr",
     "output_type": "stream",
     "text": [
      "/opt/anaconda3/lib/python3.8/site-packages/seaborn/_decorators.py:36: FutureWarning: Pass the following variable as a keyword arg: x. From version 0.12, the only valid positional argument will be `data`, and passing other arguments without an explicit keyword will result in an error or misinterpretation.\n",
      "  warnings.warn(\n"
     ]
    },
    {
     "data": {
      "text/plain": [
       "<AxesSubplot:xlabel='claim_est_payout'>"
      ]
     },
     "execution_count": 29,
     "metadata": {},
     "output_type": "execute_result"
    },
    {
     "data": {
      "image/png": "[encoded data removed]",
      "text/plain": [
       "<Figure size 432x288 with 1 Axes>"
      ]
     },
     "metadata": {
      "needs_background": "light"
     },
     "output_type": "display_data"
    }
   ],
   "source": [
    "sns.boxplot(df['claim_est_payout'])"
   ]
  },
  {
   "cell_type": "code",
   "execution_count": 30,
   "id": "f40fcf3f-baae-4b25-82c6-ab216f250590",
   "metadata": {},
   "outputs": [
    {
     "name": "stderr",
     "output_type": "stream",
     "text": [
      "/opt/anaconda3/lib/python3.8/site-packages/seaborn/_decorators.py:36: FutureWarning: Pass the following variable as a keyword arg: x. From version 0.12, the only valid positional argument will be `data`, and passing other arguments without an explicit keyword will result in an error or misinterpretation.\n",
      "  warnings.warn(\n"
     ]
    },
    {
     "data": {
      "text/plain": [
       "<AxesSubplot:xlabel='age_of_vehicle'>"
      ]
     },
     "execution_count": 30,
     "metadata": {},
     "output_type": "execute_result"
    },
    {
     "data": {
      "image/png": "[encoded data removed]",
      "text/plain": [
       "<Figure size 432x288 with 1 Axes>"
      ]
     },
     "metadata": {
      "needs_background": "light"
     },
     "output_type": "display_data"
    }
   ],
   "source": [
    "sns.boxplot(df['age_of_vehicle'])"
   ]
  },
  {
   "cell_type": "code",
   "execution_count": 31,
   "id": "5e124940-d392-446d-af31-376903344663",
   "metadata": {},
   "outputs": [
    {
     "name": "stderr",
     "output_type": "stream",
     "text": [
      "/opt/anaconda3/lib/python3.8/site-packages/seaborn/_decorators.py:36: FutureWarning: Pass the following variable as a keyword arg: x. From version 0.12, the only valid positional argument will be `data`, and passing other arguments without an explicit keyword will result in an error or misinterpretation.\n",
      "  warnings.warn(\n"
     ]
    },
    {
     "data": {
      "text/plain": [
       "<AxesSubplot:xlabel='vehicle_price'>"
      ]
     },
     "execution_count": 31,
     "metadata": {},
     "output_type": "execute_result"
    },
    {
     "data": {
      "image/png": "[encoded data removed]",
      "text/plain": [
       "<Figure size 432x288 with 1 Axes>"
      ]
     },
     "metadata": {
      "needs_background": "light"
     },
     "output_type": "display_data"
    }
   ],
   "source": [
    "sns.boxplot(df['vehicle_price'])"
   ]
  },
  {
   "cell_type": "markdown",
   "id": "6d4d8242-6c07-4cd4-8476-392a761c9797",
   "metadata": {},
   "source": [
    "# Data Visualization"
   ]
  },
  {
   "cell_type": "markdown",
   "id": "7a1c9818-ab82-4155-b034-86dd7d929ce2",
   "metadata": {},
   "source": [
    "# Categorical"
   ]
  },
  {
   "cell_type": "code",
   "execution_count": 32,
   "id": "52833928-2331-4959-9009-c0cb0a43f186",
   "metadata": {},
   "outputs": [
    {
     "data": {
      "text/plain": [
       "<AxesSubplot:xlabel='gender', ylabel='count'>"
      ]
     },
     "execution_count": 32,
     "metadata": {},
     "output_type": "execute_result"
    },
    {
     "data": {
      "image/png": "[encoded data removed]",
      "text/plain": [
       "<Figure size 432x288 with 1 Axes>"
      ]
     },
     "metadata": {
      "needs_background": "light"
     },
     "output_type": "display_data"
    }
   ],
   "source": [
    "# gender (Categorical)\n",
    "sns.countplot(hue='fraud', x='gender', data=df)"
   ]
  },
  {
   "cell_type": "code",
   "execution_count": 33,
   "id": "9ce230af-323c-4e7a-a4b3-773028e73f49",
   "metadata": {},
   "outputs": [
    {
     "data": {
      "text/plain": [
       "<AxesSubplot:xlabel='marital_status', ylabel='count'>"
      ]
     },
     "execution_count": 33,
     "metadata": {},
     "output_type": "execute_result"
    },
    {
     "data": {
      "image/png": "[encoded data removed]",
      "text/plain": [
       "<Figure size 432x288 with 1 Axes>"
      ]
     },
     "metadata": {
      "needs_background": "light"
     },
     "output_type": "display_data"
    }
   ],
   "source": [
    "# marital_status (Categorical)\n",
    "sns.countplot(hue='fraud', x='marital_status', data=df)"
   ]
  },
  {
   "cell_type": "code",
   "execution_count": 34,
   "id": "83f734a4-fe39-4bfc-acb0-dbba1d85b4bf",
   "metadata": {},
   "outputs": [
    {
     "data": {
      "text/plain": [
       "<AxesSubplot:xlabel='high_education_ind', ylabel='count'>"
      ]
     },
     "execution_count": 34,
     "metadata": {},
     "output_type": "execute_result"
    },
    {
     "data": {
      "image/png": "[encoded data removed]",
      "text/plain": [
       "<Figure size 432x288 with 1 Axes>"
      ]
     },
     "metadata": {
      "needs_background": "light"
     },
     "output_type": "display_data"
    }
   ],
   "source": [
    "# high_education_ind (Categorical)\n",
    "sns.countplot(hue='fraud', x='high_education_ind', data=df)"
   ]
  },
  {
   "cell_type": "code",
   "execution_count": 35,
   "id": "47918ec2-0f14-43cd-9649-17023eaca582",
   "metadata": {},
   "outputs": [
    {
     "data": {
      "text/plain": [
       "<AxesSubplot:xlabel='address_change_ind', ylabel='count'>"
      ]
     },
     "execution_count": 35,
     "metadata": {},
     "output_type": "execute_result"
    },
    {
     "data": {
      "image/png": "[encoded data removed]",
      "text/plain": [
       "<Figure size 432x288 with 1 Axes>"
      ]
     },
     "metadata": {
      "needs_background": "light"
     },
     "output_type": "display_data"
    }
   ],
   "source": [
    "# address_change_ind (Categorical)\n",
    "sns.countplot(hue='fraud', x='address_change_ind', data=df)"
   ]
  },
  {
   "cell_type": "code",
   "execution_count": 36,
   "id": "c57070ad-971c-4309-baf2-1b9351152578",
   "metadata": {},
   "outputs": [
    {
     "data": {
      "text/plain": [
       "<AxesSubplot:xlabel='living_status', ylabel='count'>"
      ]
     },
     "execution_count": 36,
     "metadata": {},
     "output_type": "execute_result"
    },
    {
     "data": {
      "image/png": "[encoded data removed]",
      "text/plain": [
       "<Figure size 432x288 with 1 Axes>"
      ]
     },
     "metadata": {
      "needs_background": "light"
     },
     "output_type": "display_data"
    }
   ],
   "source": [
    "# living_status (Categorical)\n",
    "sns.countplot(hue='fraud', x='living_status', data=df)"
   ]
  },
  {
   "cell_type": "code",
   "execution_count": 37,
   "id": "a782cc22-297c-42ff-ab55-83a64e07b81b",
   "metadata": {},
   "outputs": [
    {
     "data": {
      "text/plain": [
       "<AxesSubplot:xlabel='claim_day_of_week', ylabel='count'>"
      ]
     },
     "execution_count": 37,
     "metadata": {},
     "output_type": "execute_result"
    },
    {
     "data": {
      "image/png": "[encoded data removed]",
      "text/plain": [
       "<Figure size 432x288 with 1 Axes>"
      ]
     },
     "metadata": {
      "needs_background": "light"
     },
     "output_type": "display_data"
    }
   ],
   "source": [
    "# claim_day_of_week (Categorical)\n",
    "sns.countplot(hue='fraud', x='claim_day_of_week', data=df)"
   ]
  },
  {
   "cell_type": "code",
   "execution_count": 38,
   "id": "0af3511e-1a1a-4830-9a71-8182ce0677c4",
   "metadata": {},
   "outputs": [
    {
     "data": {
      "text/plain": [
       "<AxesSubplot:xlabel='accident_site', ylabel='count'>"
      ]
     },
     "execution_count": 38,
     "metadata": {},
     "output_type": "execute_result"
    },
    {
     "data": {
      "image/png": "[encoded data removed]",
      "text/plain": [
       "<Figure size 432x288 with 1 Axes>"
      ]
     },
     "metadata": {
      "needs_background": "light"
     },
     "output_type": "display_data"
    }
   ],
   "source": [
    "# accident_site (Categorical)\n",
    "sns.countplot(hue='fraud', x='accident_site', data=df)"
   ]
  },
  {
   "cell_type": "code",
   "execution_count": 39,
   "id": "27674d50-4934-4efe-a181-d12496e008de",
   "metadata": {},
   "outputs": [
    {
     "data": {
      "text/plain": [
       "<AxesSubplot:xlabel='past_num_of_claims', ylabel='count'>"
      ]
     },
     "execution_count": 39,
     "metadata": {},
     "output_type": "execute_result"
    },
    {
     "data": {
      "image/png": "[encoded data removed]",
      "text/plain": [
       "<Figure size 432x288 with 1 Axes>"
      ]
     },
     "metadata": {
      "needs_background": "light"
     },
     "output_type": "display_data"
    }
   ],
   "source": [
    "# past_num_of_claims (Categorical)\n",
    "sns.countplot(hue='fraud', x='past_num_of_claims', data=df)"
   ]
  },
  {
   "cell_type": "code",
   "execution_count": 40,
   "id": "64768fa5-958a-48c4-9db6-2bce0be2ce1a",
   "metadata": {
    "tags": []
   },
   "outputs": [
    {
     "data": {
      "text/plain": [
       "<AxesSubplot:xlabel='witness_present_ind', ylabel='count'>"
      ]
     },
     "execution_count": 40,
     "metadata": {},
     "output_type": "execute_result"
    },
    {
     "data": {
      "image/png": "[encoded data removed]",
      "text/plain": [
       "<Figure size 432x288 with 1 Axes>"
      ]
     },
     "metadata": {
      "needs_background": "light"
     },
     "output_type": "display_data"
    }
   ],
   "source": [
    "# witness_present_ind (Categorical)\n",
    "sns.countplot(hue='fraud', x='witness_present_ind', data=df)"
   ]
  },
  {
   "cell_type": "code",
   "execution_count": 41,
   "id": "a5995865-dc7b-4e6f-826d-2790bcf86b78",
   "metadata": {},
   "outputs": [
    {
     "data": {
      "text/plain": [
       "<AxesSubplot:xlabel='channel', ylabel='count'>"
      ]
     },
     "execution_count": 41,
     "metadata": {},
     "output_type": "execute_result"
    },
    {
     "data": {
      "image/png": "[encoded data removed]",
      "text/plain": [
       "<Figure size 432x288 with 1 Axes>"
      ]
     },
     "metadata": {
      "needs_background": "light"
     },
     "output_type": "display_data"
    }
   ],
   "source": [
    "# channel (Categorical)\n",
    "sns.countplot(hue='fraud', x='channel', data=df)"
   ]
  },
  {
   "cell_type": "code",
   "execution_count": 42,
   "id": "519eb29f-ba7a-4b2d-b52c-36fc873674b3",
   "metadata": {},
   "outputs": [
    {
     "data": {
      "text/plain": [
       "<AxesSubplot:xlabel='policy_report_filed_ind', ylabel='count'>"
      ]
     },
     "execution_count": 42,
     "metadata": {},
     "output_type": "execute_result"
    },
    {
     "data": {
      "image/png": "[encoded data removed]",
      "text/plain": [
       "<Figure size 432x288 with 1 Axes>"
      ]
     },
     "metadata": {
      "needs_background": "light"
     },
     "output_type": "display_data"
    }
   ],
   "source": [
    "# policy_report_filed_ind (Categorical)\n",
    "sns.countplot(hue='fraud', x='policy_report_filed_ind', data=df)"
   ]
  },
  {
   "cell_type": "code",
   "execution_count": 43,
   "id": "f24a9ca7-9ddb-45f1-8552-5283ded2292f",
   "metadata": {},
   "outputs": [
    {
     "data": {
      "text/plain": [
       "<AxesSubplot:xlabel='vehicle_category', ylabel='count'>"
      ]
     },
     "execution_count": 43,
     "metadata": {},
     "output_type": "execute_result"
    },
    {
     "data": {
      "image/png": "[encoded data removed]",
      "text/plain": [
       "<Figure size 432x288 with 1 Axes>"
      ]
     },
     "metadata": {
      "needs_background": "light"
     },
     "output_type": "display_data"
    }
   ],
   "source": [
    "# vehicle_category (Categorical)\n",
    "sns.countplot(hue='fraud', x='vehicle_category', data=df)"
   ]
  },
  {
   "cell_type": "code",
   "execution_count": 44,
   "id": "9365b17e-e145-44df-a44b-f391c8ceaefe",
   "metadata": {},
   "outputs": [
    {
     "data": {
      "text/plain": [
       "<AxesSubplot:xlabel='vehicle_color', ylabel='count'>"
      ]
     },
     "execution_count": 44,
     "metadata": {},
     "output_type": "execute_result"
    },
    {
     "data": {
      "image/png": "[encoded data removed]",
      "text/plain": [
       "<Figure size 432x288 with 1 Axes>"
      ]
     },
     "metadata": {
      "needs_background": "light"
     },
     "output_type": "display_data"
    }
   ],
   "source": [
    "# vehicle_color (Categorical)\n",
    "sns.countplot(hue='fraud', x='vehicle_color', data=df)"
   ]
  },
  {
   "cell_type": "markdown",
   "id": "59cbe796-a801-4a87-87dc-7568220a8014",
   "metadata": {},
   "source": [
    "# Continuous"
   ]
  },
  {
   "cell_type": "code",
   "execution_count": 45,
   "id": "c3e5ac08-b7f6-4255-839d-6442ac5b0dd3",
   "metadata": {},
   "outputs": [
    {
     "data": {
      "text/plain": [
       "<AxesSubplot:xlabel='fraud', ylabel='age_of_driver'>"
      ]
     },
     "execution_count": 45,
     "metadata": {},
     "output_type": "execute_result"
    },
    {
     "data": {
      "image/png": "[encoded data removed]",
      "text/plain": [
       "<Figure size 432x288 with 1 Axes>"
      ]
     },
     "metadata": {
      "needs_background": "light"
     },
     "output_type": "display_data"
    }
   ],
   "source": [
    "# age_of_driver (Continuous)\n",
    "sns.boxplot(y='age_of_driver', x='fraud', data=df)"
   ]
  },
  {
   "cell_type": "code",
   "execution_count": 46,
   "id": "517ab468-8ce8-4913-8f5a-720063cc4f5b",
   "metadata": {},
   "outputs": [
    {
     "data": {
      "text/plain": [
       "<AxesSubplot:xlabel='fraud', ylabel='safty_rating'>"
      ]
     },
     "execution_count": 46,
     "metadata": {},
     "output_type": "execute_result"
    },
    {
     "data": {
      "image/png": "[encoded data removed]",
      "text/plain": [
       "<Figure size 432x288 with 1 Axes>"
      ]
     },
     "metadata": {
      "needs_background": "light"
     },
     "output_type": "display_data"
    }
   ],
   "source": [
    "# safety_rating (Continuous)\n",
    "sns.boxplot(y='safty_rating', x='fraud', data=df)"
   ]
  },
  {
   "cell_type": "code",
   "execution_count": 47,
   "id": "76c3e34e-9c65-4a87-b5b7-4bb165085a6d",
   "metadata": {},
   "outputs": [
    {
     "data": {
      "text/plain": [
       "<AxesSubplot:xlabel='fraud', ylabel='annual_income'>"
      ]
     },
     "execution_count": 47,
     "metadata": {},
     "output_type": "execute_result"
    },
    {
     "data": {
      "image/png": "[encoded data removed]",
      "text/plain": [
       "<Figure size 432x288 with 1 Axes>"
      ]
     },
     "metadata": {
      "needs_background": "light"
     },
     "output_type": "display_data"
    }
   ],
   "source": [
    "# annual_income (Continuous)\n",
    "sns.boxplot(y='annual_income', x='fraud', data=df)"
   ]
  },
  {
   "cell_type": "code",
   "execution_count": 48,
   "id": "c64969b2-d430-4ddd-9dd9-6b4cce8ca919",
   "metadata": {},
   "outputs": [
    {
     "data": {
      "text/plain": [
       "<AxesSubplot:xlabel='fraud', ylabel='liab_prct'>"
      ]
     },
     "execution_count": 48,
     "metadata": {},
     "output_type": "execute_result"
    },
    {
     "data": {
      "image/png": "[encoded data removed]",
      "text/plain": [
       "<Figure size 432x288 with 1 Axes>"
      ]
     },
     "metadata": {
      "needs_background": "light"
     },
     "output_type": "display_data"
    }
   ],
   "source": [
    "# liab_prct (Continuous)\n",
    "sns.boxplot(y='liab_prct', x='fraud', data=df)"
   ]
  },
  {
   "cell_type": "code",
   "execution_count": 49,
   "id": "7a5d21fe-ffa6-4022-bd9a-28b4e6e3cfa7",
   "metadata": {},
   "outputs": [
    {
     "data": {
      "text/plain": [
       "<AxesSubplot:xlabel='fraud', ylabel='claim_est_payout'>"
      ]
     },
     "execution_count": 49,
     "metadata": {},
     "output_type": "execute_result"
    },
    {
     "data": {
      "image/png": "[encoded data removed]",
      "text/plain": [
       "<Figure size 432x288 with 1 Axes>"
      ]
     },
     "metadata": {
      "needs_background": "light"
     },
     "output_type": "display_data"
    }
   ],
   "source": [
    "# claim_est_payout (Continuous)\n",
    "sns.boxplot(y='claim_est_payout', x='fraud', data=df)"
   ]
  },
  {
   "cell_type": "code",
   "execution_count": 50,
   "id": "0eef95c5-e07a-4997-a52a-429bfdc93b5f",
   "metadata": {},
   "outputs": [
    {
     "data": {
      "text/plain": [
       "<AxesSubplot:xlabel='fraud', ylabel='age_of_vehicle'>"
      ]
     },
     "execution_count": 50,
     "metadata": {},
     "output_type": "execute_result"
    },
    {
     "data": {
      "image/png": "[encoded data removed]",
      "text/plain": [
       "<Figure size 432x288 with 1 Axes>"
      ]
     },
     "metadata": {
      "needs_background": "light"
     },
     "output_type": "display_data"
    }
   ],
   "source": [
    "# age_of_vehicle (Continuous)\n",
    "sns.boxplot(y='age_of_vehicle', x='fraud', data=df)"
   ]
  },
  {
   "cell_type": "code",
   "execution_count": 51,
   "id": "cbf027e0-847f-4dd3-9192-f2f49142f5a4",
   "metadata": {},
   "outputs": [
    {
     "data": {
      "text/plain": [
       "<AxesSubplot:xlabel='fraud', ylabel='vehicle_price'>"
      ]
     },
     "execution_count": 51,
     "metadata": {},
     "output_type": "execute_result"
    },
    {
     "data": {
      "image/png": "[encoded data removed]",
      "text/plain": [
       "<Figure size 432x288 with 1 Axes>"
      ]
     },
     "metadata": {
      "needs_background": "light"
     },
     "output_type": "display_data"
    }
   ],
   "source": [
    "# vehicle_price (Continuous)\n",
    "sns.boxplot(y='vehicle_price', x='fraud', data=df)"
   ]
  },
  {
   "cell_type": "code",
   "execution_count": 52,
   "id": "e560f82d-5a28-45d2-a7c6-9595b5c0081f",
   "metadata": {},
   "outputs": [
    {
     "data": {
      "text/plain": [
       "<AxesSubplot:xlabel='fraud', ylabel='vehicle_weight'>"
      ]
     },
     "execution_count": 52,
     "metadata": {},
     "output_type": "execute_result"
    },
    {
     "data": {
      "image/png": "[encoded data removed]",
      "text/plain": [
       "<Figure size 432x288 with 1 Axes>"
      ]
     },
     "metadata": {
      "needs_background": "light"
     },
     "output_type": "display_data"
    }
   ],
   "source": [
    "# vehicle_weight (Continuous)\n",
    "sns.boxplot(y='vehicle_weight', x='fraud', data=df)"
   ]
  },
  {
   "cell_type": "code",
   "execution_count": 53,
   "id": "90c22ed4-e8cc-40dd-a3bc-342faafe161e",
   "metadata": {},
   "outputs": [],
   "source": [
    "q1 = df[['age_of_driver', 'safty_rating', 'annual_income', 'liab_prct', 'claim_est_payout', 'age_of_vehicle', 'vehicle_price', 'vehicle_weight']].quantile(0.25)\n",
    "q3 = df[['age_of_driver', 'safty_rating', 'annual_income', 'liab_prct', 'claim_est_payout', 'age_of_vehicle', 'vehicle_price', 'vehicle_weight']].quantile(0.75)\n",
    "iqr = q3 - q1"
   ]
  },
  {
   "cell_type": "code",
   "execution_count": 54,
   "id": "074ef2c9-c0c2-47b7-9b40-c2cfee8ee113",
   "metadata": {},
   "outputs": [
    {
     "name": "stderr",
     "output_type": "stream",
     "text": [
      "<ipython-input-54-eed068037d5d>:1: FutureWarning: Automatic reindexing on DataFrame vs Series comparisons is deprecated and will raise ValueError in a future version.  Do `left, right = left.align(right, axis=1, copy=False)` before e.g. `left == right`\n",
      "  ((df[['age_of_driver', 'safty_rating', 'annual_income', 'liab_prct', 'claim_est_payout', 'age_of_vehicle', 'vehicle_price']] < (q1 - 1.5 * iqr)) | (df[['age_of_driver', 'safty_rating', 'annual_income', 'liab_prct', 'claim_est_payout', 'age_of_vehicle', 'vehicle_price']] > (q3 + 1.5 * iqr))).sum()\n",
      "<ipython-input-54-eed068037d5d>:1: FutureWarning: Automatic reindexing on DataFrame vs Series comparisons is deprecated and will raise ValueError in a future version.  Do `left, right = left.align(right, axis=1, copy=False)` before e.g. `left == right`\n",
      "  ((df[['age_of_driver', 'safty_rating', 'annual_income', 'liab_prct', 'claim_est_payout', 'age_of_vehicle', 'vehicle_price']] < (q1 - 1.5 * iqr)) | (df[['age_of_driver', 'safty_rating', 'annual_income', 'liab_prct', 'claim_est_payout', 'age_of_vehicle', 'vehicle_price']] > (q3 + 1.5 * iqr))).sum()\n"
     ]
    },
    {
     "data": {
      "text/plain": [
       "age_of_driver       181\n",
       "age_of_vehicle      266\n",
       "annual_income        57\n",
       "claim_est_payout    319\n",
       "liab_prct             0\n",
       "safty_rating        397\n",
       "vehicle_price       459\n",
       "vehicle_weight        0\n",
       "dtype: int64"
      ]
     },
     "execution_count": 54,
     "metadata": {},
     "output_type": "execute_result"
    }
   ],
   "source": [
    "((df[['age_of_driver', 'safty_rating', 'annual_income', 'liab_prct', 'claim_est_payout', 'age_of_vehicle', 'vehicle_price']] < (q1 - 1.5 * iqr)) | (df[['age_of_driver', 'safty_rating', 'annual_income', 'liab_prct', 'claim_est_payout', 'age_of_vehicle', 'vehicle_price']] > (q3 + 1.5 * iqr))).sum()"
   ]
  },
  {
   "cell_type": "code",
   "execution_count": 55,
   "id": "8a8ea2c1-91fe-4830-845a-e0a58b57e0ba",
   "metadata": {},
   "outputs": [],
   "source": [
    "df.drop(df.loc[df['age_of_driver'] > 95].index, axis=0, inplace=True)"
   ]
  },
  {
   "cell_type": "code",
   "execution_count": 56,
   "id": "0c07d986-d0ec-43ea-a274-1ee0de662970",
   "metadata": {},
   "outputs": [
    {
     "data": {
      "text/plain": [
       "(1, 100)"
      ]
     },
     "execution_count": 56,
     "metadata": {},
     "output_type": "execute_result"
    }
   ],
   "source": [
    "df['safty_rating'].min(), df['safty_rating'].max()"
   ]
  },
  {
   "cell_type": "code",
   "execution_count": 57,
   "id": "18d7849f-6d57-475a-88b4-e655ceae68c1",
   "metadata": {},
   "outputs": [],
   "source": [
    "# annual_income outliers\n",
    "q1_ai = df[['annual_income']].quantile(0.25)\n",
    "q3_ai = df[['annual_income']].quantile(0.75)\n",
    "iqr_ai = q3_ai - q1_ai"
   ]
  },
  {
   "cell_type": "code",
   "execution_count": 58,
   "id": "4f5ba030-d72a-4bdb-8a99-b78747a5f61e",
   "metadata": {},
   "outputs": [],
   "source": [
    "lq_ai = q1_ai - 1.5 * iqr_ai\n",
    "uq_ai = q3_ai + 1.5 * iqr_ai"
   ]
  },
  {
   "cell_type": "code",
   "execution_count": 59,
   "id": "b65f99d2-792d-44e9-9cf7-75321907b0c0",
   "metadata": {},
   "outputs": [
    {
     "data": {
      "text/html": [
       "<div>\n",
       "<style scoped>\n",
       "    .dataframe tbody tr th:only-of-type {\n",
       "        vertical-align: middle;\n",
       "    }\n",
       "\n",
       "    .dataframe tbody tr th {\n",
       "        vertical-align: top;\n",
       "    }\n",
       "\n",
       "    .dataframe thead th {\n",
       "        text-align: right;\n",
       "    }\n",
       "</style>\n",
       "<table border=\"1\" class=\"dataframe\">\n",
       "  <thead>\n",
       "    <tr style=\"text-align: right;\">\n",
       "      <th></th>\n",
       "      <th>annual_income</th>\n",
       "      <th>fraud</th>\n",
       "    </tr>\n",
       "  </thead>\n",
       "  <tbody>\n",
       "    <tr>\n",
       "      <th>257</th>\n",
       "      <td>29447</td>\n",
       "      <td>1</td>\n",
       "    </tr>\n",
       "    <tr>\n",
       "      <th>645</th>\n",
       "      <td>29441</td>\n",
       "      <td>0</td>\n",
       "    </tr>\n",
       "    <tr>\n",
       "      <th>1428</th>\n",
       "      <td>29444</td>\n",
       "      <td>0</td>\n",
       "    </tr>\n",
       "    <tr>\n",
       "      <th>3144</th>\n",
       "      <td>29451</td>\n",
       "      <td>1</td>\n",
       "    </tr>\n",
       "    <tr>\n",
       "      <th>3442</th>\n",
       "      <td>-1</td>\n",
       "      <td>0</td>\n",
       "    </tr>\n",
       "    <tr>\n",
       "      <th>5449</th>\n",
       "      <td>-1</td>\n",
       "      <td>1</td>\n",
       "    </tr>\n",
       "    <tr>\n",
       "      <th>5570</th>\n",
       "      <td>29434</td>\n",
       "      <td>0</td>\n",
       "    </tr>\n",
       "    <tr>\n",
       "      <th>5690</th>\n",
       "      <td>29453</td>\n",
       "      <td>1</td>\n",
       "    </tr>\n",
       "    <tr>\n",
       "      <th>6074</th>\n",
       "      <td>29444</td>\n",
       "      <td>0</td>\n",
       "    </tr>\n",
       "    <tr>\n",
       "      <th>6785</th>\n",
       "      <td>28906</td>\n",
       "      <td>0</td>\n",
       "    </tr>\n",
       "    <tr>\n",
       "      <th>6880</th>\n",
       "      <td>29420</td>\n",
       "      <td>0</td>\n",
       "    </tr>\n",
       "    <tr>\n",
       "      <th>7347</th>\n",
       "      <td>-1</td>\n",
       "      <td>0</td>\n",
       "    </tr>\n",
       "    <tr>\n",
       "      <th>7467</th>\n",
       "      <td>-1</td>\n",
       "      <td>0</td>\n",
       "    </tr>\n",
       "    <tr>\n",
       "      <th>8193</th>\n",
       "      <td>-1</td>\n",
       "      <td>0</td>\n",
       "    </tr>\n",
       "    <tr>\n",
       "      <th>9262</th>\n",
       "      <td>29450</td>\n",
       "      <td>1</td>\n",
       "    </tr>\n",
       "    <tr>\n",
       "      <th>9385</th>\n",
       "      <td>-1</td>\n",
       "      <td>0</td>\n",
       "    </tr>\n",
       "    <tr>\n",
       "      <th>9628</th>\n",
       "      <td>-1</td>\n",
       "      <td>0</td>\n",
       "    </tr>\n",
       "    <tr>\n",
       "      <th>9804</th>\n",
       "      <td>29446</td>\n",
       "      <td>0</td>\n",
       "    </tr>\n",
       "    <tr>\n",
       "      <th>10539</th>\n",
       "      <td>-1</td>\n",
       "      <td>0</td>\n",
       "    </tr>\n",
       "    <tr>\n",
       "      <th>11405</th>\n",
       "      <td>-1</td>\n",
       "      <td>0</td>\n",
       "    </tr>\n",
       "    <tr>\n",
       "      <th>12416</th>\n",
       "      <td>-1</td>\n",
       "      <td>0</td>\n",
       "    </tr>\n",
       "    <tr>\n",
       "      <th>12446</th>\n",
       "      <td>-1</td>\n",
       "      <td>0</td>\n",
       "    </tr>\n",
       "    <tr>\n",
       "      <th>12793</th>\n",
       "      <td>-1</td>\n",
       "      <td>0</td>\n",
       "    </tr>\n",
       "    <tr>\n",
       "      <th>12830</th>\n",
       "      <td>-1</td>\n",
       "      <td>0</td>\n",
       "    </tr>\n",
       "    <tr>\n",
       "      <th>13686</th>\n",
       "      <td>29437</td>\n",
       "      <td>1</td>\n",
       "    </tr>\n",
       "    <tr>\n",
       "      <th>13723</th>\n",
       "      <td>29468</td>\n",
       "      <td>1</td>\n",
       "    </tr>\n",
       "    <tr>\n",
       "      <th>13858</th>\n",
       "      <td>28896</td>\n",
       "      <td>0</td>\n",
       "    </tr>\n",
       "    <tr>\n",
       "      <th>14105</th>\n",
       "      <td>29439</td>\n",
       "      <td>0</td>\n",
       "    </tr>\n",
       "    <tr>\n",
       "      <th>14497</th>\n",
       "      <td>-1</td>\n",
       "      <td>0</td>\n",
       "    </tr>\n",
       "    <tr>\n",
       "      <th>15129</th>\n",
       "      <td>29447</td>\n",
       "      <td>0</td>\n",
       "    </tr>\n",
       "    <tr>\n",
       "      <th>17798</th>\n",
       "      <td>28910</td>\n",
       "      <td>0</td>\n",
       "    </tr>\n",
       "  </tbody>\n",
       "</table>\n",
       "</div>"
      ],
      "text/plain": [
       "       annual_income  fraud\n",
       "257            29447      1\n",
       "645            29441      0\n",
       "1428           29444      0\n",
       "3144           29451      1\n",
       "3442              -1      0\n",
       "5449              -1      1\n",
       "5570           29434      0\n",
       "5690           29453      1\n",
       "6074           29444      0\n",
       "6785           28906      0\n",
       "6880           29420      0\n",
       "7347              -1      0\n",
       "7467              -1      0\n",
       "8193              -1      0\n",
       "9262           29450      1\n",
       "9385              -1      0\n",
       "9628              -1      0\n",
       "9804           29446      0\n",
       "10539             -1      0\n",
       "11405             -1      0\n",
       "12416             -1      0\n",
       "12446             -1      0\n",
       "12793             -1      0\n",
       "12830             -1      0\n",
       "13686          29437      1\n",
       "13723          29468      1\n",
       "13858          28896      0\n",
       "14105          29439      0\n",
       "14497             -1      0\n",
       "15129          29447      0\n",
       "17798          28910      0"
      ]
     },
     "execution_count": 59,
     "metadata": {},
     "output_type": "execute_result"
    }
   ],
   "source": [
    "df.loc[df['annual_income'] < lq_ai[0], ['annual_income', 'fraud']]"
   ]
  },
  {
   "cell_type": "code",
   "execution_count": 60,
   "id": "94c6e0ce-9d74-4ab1-914b-20b50a7c3620",
   "metadata": {},
   "outputs": [],
   "source": [
    "# deleted -1 values as income cannot be -1\n",
    "df.drop(df.loc[df['annual_income'] == -1].index, axis=0, inplace=True)"
   ]
  },
  {
   "cell_type": "code",
   "execution_count": 61,
   "id": "98d0fe9b-f93e-4b30-adf6-8eccc6706273",
   "metadata": {},
   "outputs": [
    {
     "data": {
      "text/html": [
       "<div>\n",
       "<style scoped>\n",
       "    .dataframe tbody tr th:only-of-type {\n",
       "        vertical-align: middle;\n",
       "    }\n",
       "\n",
       "    .dataframe tbody tr th {\n",
       "        vertical-align: top;\n",
       "    }\n",
       "\n",
       "    .dataframe thead th {\n",
       "        text-align: right;\n",
       "    }\n",
       "</style>\n",
       "<table border=\"1\" class=\"dataframe\">\n",
       "  <thead>\n",
       "    <tr style=\"text-align: right;\">\n",
       "      <th></th>\n",
       "      <th>annual_income</th>\n",
       "      <th>fraud</th>\n",
       "    </tr>\n",
       "  </thead>\n",
       "  <tbody>\n",
       "    <tr>\n",
       "      <th>319</th>\n",
       "      <td>45112</td>\n",
       "      <td>0</td>\n",
       "    </tr>\n",
       "    <tr>\n",
       "      <th>1304</th>\n",
       "      <td>45205</td>\n",
       "      <td>0</td>\n",
       "    </tr>\n",
       "    <tr>\n",
       "      <th>3989</th>\n",
       "      <td>45566</td>\n",
       "      <td>1</td>\n",
       "    </tr>\n",
       "    <tr>\n",
       "      <th>4788</th>\n",
       "      <td>45219</td>\n",
       "      <td>0</td>\n",
       "    </tr>\n",
       "    <tr>\n",
       "      <th>4927</th>\n",
       "      <td>45202</td>\n",
       "      <td>1</td>\n",
       "    </tr>\n",
       "    <tr>\n",
       "      <th>6431</th>\n",
       "      <td>45433</td>\n",
       "      <td>1</td>\n",
       "    </tr>\n",
       "    <tr>\n",
       "      <th>9796</th>\n",
       "      <td>44985</td>\n",
       "      <td>0</td>\n",
       "    </tr>\n",
       "    <tr>\n",
       "      <th>10466</th>\n",
       "      <td>45106</td>\n",
       "      <td>0</td>\n",
       "    </tr>\n",
       "    <tr>\n",
       "      <th>11023</th>\n",
       "      <td>45097</td>\n",
       "      <td>0</td>\n",
       "    </tr>\n",
       "    <tr>\n",
       "      <th>12900</th>\n",
       "      <td>45208</td>\n",
       "      <td>0</td>\n",
       "    </tr>\n",
       "    <tr>\n",
       "      <th>13225</th>\n",
       "      <td>45327</td>\n",
       "      <td>0</td>\n",
       "    </tr>\n",
       "    <tr>\n",
       "      <th>13944</th>\n",
       "      <td>45441</td>\n",
       "      <td>0</td>\n",
       "    </tr>\n",
       "    <tr>\n",
       "      <th>15583</th>\n",
       "      <td>45121</td>\n",
       "      <td>0</td>\n",
       "    </tr>\n",
       "    <tr>\n",
       "      <th>17785</th>\n",
       "      <td>45217</td>\n",
       "      <td>0</td>\n",
       "    </tr>\n",
       "    <tr>\n",
       "      <th>17918</th>\n",
       "      <td>45228</td>\n",
       "      <td>0</td>\n",
       "    </tr>\n",
       "  </tbody>\n",
       "</table>\n",
       "</div>"
      ],
      "text/plain": [
       "       annual_income  fraud\n",
       "319            45112      0\n",
       "1304           45205      0\n",
       "3989           45566      1\n",
       "4788           45219      0\n",
       "4927           45202      1\n",
       "6431           45433      1\n",
       "9796           44985      0\n",
       "10466          45106      0\n",
       "11023          45097      0\n",
       "12900          45208      0\n",
       "13225          45327      0\n",
       "13944          45441      0\n",
       "15583          45121      0\n",
       "17785          45217      0\n",
       "17918          45228      0"
      ]
     },
     "execution_count": 61,
     "metadata": {},
     "output_type": "execute_result"
    }
   ],
   "source": [
    "df.loc[df['annual_income'] > uq_ai[0], ['annual_income', 'fraud']]"
   ]
  },
  {
   "cell_type": "code",
   "execution_count": 62,
   "id": "f41853d0-c2e4-4086-942b-7a28c69f92ce",
   "metadata": {},
   "outputs": [],
   "source": [
    "# claim_est_payout outliers\n",
    "q1_cep = df[['claim_est_payout']].quantile(0.25)\n",
    "q3_cep = df[['claim_est_payout']].quantile(0.75)\n",
    "iqr_cep = q3_cep - q1_cep\n",
    "lq_cep = q1_cep - 1.5 * iqr_cep\n",
    "uq_cep = q3_cep + 1.5 * iqr_cep"
   ]
  },
  {
   "cell_type": "code",
   "execution_count": 63,
   "id": "d27bc292-4b72-46a6-8994-92787f8a67ee",
   "metadata": {},
   "outputs": [
    {
     "data": {
      "text/html": [
       "<div>\n",
       "<style scoped>\n",
       "    .dataframe tbody tr th:only-of-type {\n",
       "        vertical-align: middle;\n",
       "    }\n",
       "\n",
       "    .dataframe tbody tr th {\n",
       "        vertical-align: top;\n",
       "    }\n",
       "\n",
       "    .dataframe thead th {\n",
       "        text-align: right;\n",
       "    }\n",
       "</style>\n",
       "<table border=\"1\" class=\"dataframe\">\n",
       "  <thead>\n",
       "    <tr style=\"text-align: right;\">\n",
       "      <th></th>\n",
       "      <th>claim_est_payout</th>\n",
       "      <th>fraud</th>\n",
       "    </tr>\n",
       "  </thead>\n",
       "  <tbody>\n",
       "  </tbody>\n",
       "</table>\n",
       "</div>"
      ],
      "text/plain": [
       "Empty DataFrame\n",
       "Columns: [claim_est_payout, fraud]\n",
       "Index: []"
      ]
     },
     "execution_count": 63,
     "metadata": {},
     "output_type": "execute_result"
    }
   ],
   "source": [
    "df.loc[df['claim_est_payout'] < lq_cep[0], ['claim_est_payout', 'fraud']]"
   ]
  },
  {
   "cell_type": "code",
   "execution_count": 64,
   "id": "8785bc78-7c6a-4035-a9ef-02eb8f7cbd1c",
   "metadata": {},
   "outputs": [
    {
     "data": {
      "text/plain": [
       "fraud\n",
       "0        264\n",
       "1         55\n",
       "dtype: int64"
      ]
     },
     "execution_count": 64,
     "metadata": {},
     "output_type": "execute_result"
    }
   ],
   "source": [
    "df.loc[df['claim_est_payout'] > uq_cep[0], ['fraud']].value_counts()"
   ]
  },
  {
   "cell_type": "code",
   "execution_count": 65,
   "id": "6053d7c7-9a7c-4831-ae80-4169e1c00ae7",
   "metadata": {},
   "outputs": [
    {
     "data": {
      "text/plain": [
       "(282.639432, 17218.34501)"
      ]
     },
     "execution_count": 65,
     "metadata": {},
     "output_type": "execute_result"
    }
   ],
   "source": [
    "df['claim_est_payout'].min(), df['claim_est_payout'].max()"
   ]
  },
  {
   "cell_type": "code",
   "execution_count": 66,
   "id": "51e82244-aeb8-4f25-b57c-9ebb90c11bfe",
   "metadata": {},
   "outputs": [],
   "source": [
    "# vehicle_price outliers\n",
    "q1_vp = df[['vehicle_price']].quantile(0.25)\n",
    "q3_vp = df[['vehicle_price']].quantile(0.75)\n",
    "iqr_vp = q3_vp - q1_vp\n",
    "lq_vp = q1_vp - 1.5 * iqr_vp\n",
    "uq_vp = q3_vp + 1.5 * iqr_vp"
   ]
  },
  {
   "cell_type": "code",
   "execution_count": 67,
   "id": "2d50c604-8095-4b21-a3a8-c2c4ed4f90bb",
   "metadata": {},
   "outputs": [
    {
     "data": {
      "text/html": [
       "<div>\n",
       "<style scoped>\n",
       "    .dataframe tbody tr th:only-of-type {\n",
       "        vertical-align: middle;\n",
       "    }\n",
       "\n",
       "    .dataframe tbody tr th {\n",
       "        vertical-align: top;\n",
       "    }\n",
       "\n",
       "    .dataframe thead th {\n",
       "        text-align: right;\n",
       "    }\n",
       "</style>\n",
       "<table border=\"1\" class=\"dataframe\">\n",
       "  <thead>\n",
       "    <tr style=\"text-align: right;\">\n",
       "      <th></th>\n",
       "      <th>vehicle_price</th>\n",
       "      <th>fraud</th>\n",
       "    </tr>\n",
       "  </thead>\n",
       "  <tbody>\n",
       "  </tbody>\n",
       "</table>\n",
       "</div>"
      ],
      "text/plain": [
       "Empty DataFrame\n",
       "Columns: [vehicle_price, fraud]\n",
       "Index: []"
      ]
     },
     "execution_count": 67,
     "metadata": {},
     "output_type": "execute_result"
    }
   ],
   "source": [
    "df.loc[df['vehicle_price'] < lq_vp[0], ['vehicle_price', 'fraud']]"
   ]
  },
  {
   "cell_type": "code",
   "execution_count": 68,
   "id": "8549ee92-e52e-45db-a495-be4d82a1deb7",
   "metadata": {},
   "outputs": [
    {
     "data": {
      "text/plain": [
       "fraud\n",
       "0        391\n",
       "1         68\n",
       "dtype: int64"
      ]
     },
     "execution_count": 68,
     "metadata": {},
     "output_type": "execute_result"
    }
   ],
   "source": [
    "df.loc[df['vehicle_price'] > uq_vp[0], ['fraud']].value_counts()"
   ]
  },
  {
   "cell_type": "code",
   "execution_count": 69,
   "id": "81ce7024-4a1e-434c-9698-0d1aef7bf9c9",
   "metadata": {},
   "outputs": [
    {
     "data": {
      "text/plain": [
       "(2457.329316, 127063.506)"
      ]
     },
     "execution_count": 69,
     "metadata": {},
     "output_type": "execute_result"
    }
   ],
   "source": [
    "df['vehicle_price'].min(), df['vehicle_price'].max()"
   ]
  },
  {
   "cell_type": "code",
   "execution_count": 70,
   "id": "ba564ad1-20ac-4a14-9461-a99be915338d",
   "metadata": {},
   "outputs": [],
   "source": [
    "# vehicle_weight outliers\n",
    "q1_vw = df[['vehicle_weight']].quantile(0.25)\n",
    "q3_vw = df[['vehicle_weight']].quantile(0.75)\n",
    "iqr_vw = q3_vw - q1_vw\n",
    "lq_vw = q1_vw - 1.5 * iqr_vw\n",
    "uq_vw = q3_vw + 1.5 * iqr_vw"
   ]
  },
  {
   "cell_type": "code",
   "execution_count": 71,
   "id": "27c2ea74-77c7-4248-9c0b-66441ea0a927",
   "metadata": {},
   "outputs": [
    {
     "data": {
      "text/html": [
       "<div>\n",
       "<style scoped>\n",
       "    .dataframe tbody tr th:only-of-type {\n",
       "        vertical-align: middle;\n",
       "    }\n",
       "\n",
       "    .dataframe tbody tr th {\n",
       "        vertical-align: top;\n",
       "    }\n",
       "\n",
       "    .dataframe thead th {\n",
       "        text-align: right;\n",
       "    }\n",
       "</style>\n",
       "<table border=\"1\" class=\"dataframe\">\n",
       "  <thead>\n",
       "    <tr style=\"text-align: right;\">\n",
       "      <th></th>\n",
       "      <th>vehicle_weight</th>\n",
       "      <th>fraud</th>\n",
       "    </tr>\n",
       "  </thead>\n",
       "  <tbody>\n",
       "  </tbody>\n",
       "</table>\n",
       "</div>"
      ],
      "text/plain": [
       "Empty DataFrame\n",
       "Columns: [vehicle_weight, fraud]\n",
       "Index: []"
      ]
     },
     "execution_count": 71,
     "metadata": {},
     "output_type": "execute_result"
    }
   ],
   "source": [
    "df.loc[df['vehicle_weight'] < lq_vw[0], ['vehicle_weight', 'fraud']]"
   ]
  },
  {
   "cell_type": "code",
   "execution_count": 72,
   "id": "3e4122c2-9a31-4be2-b816-352c5987d638",
   "metadata": {},
   "outputs": [
    {
     "data": {
      "text/plain": [
       "fraud\n",
       "0        360\n",
       "1         69\n",
       "dtype: int64"
      ]
     },
     "execution_count": 72,
     "metadata": {},
     "output_type": "execute_result"
    }
   ],
   "source": [
    "df.loc[df['vehicle_weight'] > uq_vp[0], ['fraud']].value_counts()"
   ]
  },
  {
   "cell_type": "code",
   "execution_count": 73,
   "id": "5604aa9a-a56b-4411-b1ba-667c9f9451ea",
   "metadata": {},
   "outputs": [],
   "source": [
    "# Deleting unnecessary columns\n",
    "df.drop(['claim_day_of_week', 'vehicle_category', 'vehicle_color', 'vehicle_weight', 'claim_number', 'zip_code'], axis=1, inplace=True)"
   ]
  },
  {
   "cell_type": "code",
   "execution_count": 74,
   "id": "999f034b-6107-43fa-91f5-cac9df596483",
   "metadata": {},
   "outputs": [
    {
     "data": {
      "text/plain": [
       "Index(['age_of_driver', 'gender', 'marital_status', 'safty_rating',\n",
       "       'annual_income', 'high_education_ind', 'address_change_ind',\n",
       "       'living_status', 'claim_date', 'accident_site', 'past_num_of_claims',\n",
       "       'witness_present_ind', 'liab_prct', 'channel',\n",
       "       'policy_report_filed_ind', 'claim_est_payout', 'age_of_vehicle',\n",
       "       'vehicle_price', 'fraud'],\n",
       "      dtype='object')"
      ]
     },
     "execution_count": 74,
     "metadata": {},
     "output_type": "execute_result"
    }
   ],
   "source": [
    "df.columns"
   ]
  },
  {
   "cell_type": "code",
   "execution_count": 75,
   "id": "e8c2fb71-6e05-4c6f-a629-087742a24715",
   "metadata": {},
   "outputs": [],
   "source": [
    "just_dummies = pd.get_dummies(df[['gender', 'living_status', 'accident_site', 'channel']])"
   ]
  },
  {
   "cell_type": "code",
   "execution_count": 76,
   "id": "6d8fd35f-48de-4d17-88d0-8d398f3518a4",
   "metadata": {},
   "outputs": [],
   "source": [
    "df_with_dummies = pd.concat([df, just_dummies], axis=1)"
   ]
  },
  {
   "cell_type": "code",
   "execution_count": 77,
   "id": "f69e8584-2b19-4273-a2df-b07d40304e59",
   "metadata": {
    "tags": []
   },
   "outputs": [],
   "source": [
    "df_with_dummies.drop(['gender', 'living_status', 'accident_site', 'channel', 'claim_date'], axis=1, inplace=True)"
   ]
  },
  {
   "cell_type": "code",
   "execution_count": 78,
   "id": "38a14898-2895-401b-b0c9-5836bd951406",
   "metadata": {},
   "outputs": [
    {
     "data": {
      "text/plain": [
       "Index(['age_of_driver', 'marital_status', 'safty_rating', 'annual_income',\n",
       "       'high_education_ind', 'address_change_ind', 'past_num_of_claims',\n",
       "       'witness_present_ind', 'liab_prct', 'policy_report_filed_ind',\n",
       "       'claim_est_payout', 'age_of_vehicle', 'vehicle_price', 'fraud',\n",
       "       'gender_F', 'gender_M', 'living_status_Own', 'living_status_Rent',\n",
       "       'accident_site_Highway', 'accident_site_Local',\n",
       "       'accident_site_Parking Lot', 'channel_Broker', 'channel_Online',\n",
       "       'channel_Phone'],\n",
       "      dtype='object')"
      ]
     },
     "execution_count": 78,
     "metadata": {},
     "output_type": "execute_result"
    }
   ],
   "source": [
    "df_with_dummies.columns"
   ]
  },
  {
   "cell_type": "code",
   "execution_count": 81,
   "id": "e698015a-1ad8-417e-a124-318d07a3c612",
   "metadata": {},
   "outputs": [
    {
     "data": {
      "text/plain": [
       "age_of_driver                int64\n",
       "gender                      object\n",
       "marital_status             float64\n",
       "safty_rating                 int64\n",
       "annual_income                int64\n",
       "high_education_ind           int64\n",
       "address_change_ind           int64\n",
       "living_status               object\n",
       "claim_date                  object\n",
       "accident_site               object\n",
       "past_num_of_claims           int64\n",
       "witness_present_ind        float64\n",
       "liab_prct                    int64\n",
       "channel                     object\n",
       "policy_report_filed_ind      int64\n",
       "claim_est_payout           float64\n",
       "age_of_vehicle             float64\n",
       "vehicle_price              float64\n",
       "fraud                        int64\n",
       "dtype: object"
      ]
     },
     "execution_count": 81,
     "metadata": {},
     "output_type": "execute_result"
    }
   ],
   "source": [
    "df.dtypes\n",
    "#df_with_dummies.dtypes"
   ]
  },
  {
   "cell_type": "markdown",
   "id": "eba983bd-d618-476c-b102-9fbfc2769a26",
   "metadata": {},
   "source": [
    "# Modelling"
   ]
  },
  {
   "cell_type": "code",
   "execution_count": 78,
   "id": "77bfb073-ad91-4db7-91a6-4a2fc5c2c20f",
   "metadata": {},
   "outputs": [],
   "source": [
    "from sklearn.linear_model import LogisticRegression\n",
    "from sklearn.ensemble import RandomForestClassifier\n",
    "from sklearn.model_selection import train_test_split\n",
    "from sklearn.metrics import accuracy_score\n",
    "from sklearn.metrics import f1_score, precision_score, recall_score\n",
    "import xgboost as xgb"
   ]
  },
  {
   "cell_type": "code",
   "execution_count": 79,
   "id": "fac532b7-59a3-416e-be0c-95bdef39d495",
   "metadata": {},
   "outputs": [],
   "source": [
    "X = df_with_dummies.drop('fraud', axis=1)\n",
    "y = df_with_dummies['fraud']"
   ]
  },
  {
   "cell_type": "code",
   "execution_count": 80,
   "id": "b1673008-d562-4d6c-9b86-541a0ee2db4d",
   "metadata": {},
   "outputs": [],
   "source": [
    "from imblearn.under_sampling import RandomUnderSampler"
   ]
  },
  {
   "cell_type": "code",
   "execution_count": 81,
   "id": "7031f3b2-ce51-4249-82ad-33b34e0d6cf9",
   "metadata": {},
   "outputs": [],
   "source": [
    "rus = RandomUnderSampler(random_state=42, replacement=True)\n",
    "X_rus, y_rus = rus.fit_resample(X,y)"
   ]
  },
  {
   "cell_type": "code",
   "execution_count": 82,
   "id": "86ed028f-f6dc-4e1f-9345-538a57796bf0",
   "metadata": {},
   "outputs": [
    {
     "data": {
      "text/plain": [
       "((5586, 23), (5586,))"
      ]
     },
     "execution_count": 82,
     "metadata": {},
     "output_type": "execute_result"
    }
   ],
   "source": [
    "X_rus.shape, y_rus.shape"
   ]
  },
  {
   "cell_type": "code",
   "execution_count": 83,
   "id": "58bbf6f9-1eaa-4842-872c-93a00a3c1f29",
   "metadata": {
    "tags": []
   },
   "outputs": [],
   "source": [
    "df2 = pd.read_csv('test_2021.csv')"
   ]
  },
  {
   "cell_type": "code",
   "execution_count": 84,
   "id": "20a582d4-96fe-4f79-af4a-c3b7a74f87e6",
   "metadata": {},
   "outputs": [
    {
     "data": {
      "text/plain": [
       "(12002, 24)"
      ]
     },
     "execution_count": 84,
     "metadata": {},
     "output_type": "execute_result"
    }
   ],
   "source": [
    "df2.shape"
   ]
  },
  {
   "cell_type": "code",
   "execution_count": 85,
   "id": "527c2e09-f919-46a9-9275-cf39c9c883cc",
   "metadata": {
    "tags": []
   },
   "outputs": [
    {
     "data": {
      "text/plain": [
       "claim_number                0\n",
       "age_of_driver               0\n",
       "gender                      0\n",
       "marital_status              2\n",
       "safty_rating                0\n",
       "annual_income               0\n",
       "high_education_ind          0\n",
       "address_change_ind          0\n",
       "living_status               0\n",
       "zip_code                    0\n",
       "claim_date                  0\n",
       "claim_day_of_week           0\n",
       "accident_site               0\n",
       "past_num_of_claims          0\n",
       "witness_present_ind        88\n",
       "liab_prct                   0\n",
       "channel                     0\n",
       "policy_report_filed_ind     0\n",
       "claim_est_payout           14\n",
       "age_of_vehicle              3\n",
       "vehicle_category            0\n",
       "vehicle_price               0\n",
       "vehicle_color               0\n",
       "vehicle_weight              0\n",
       "dtype: int64"
      ]
     },
     "execution_count": 85,
     "metadata": {},
     "output_type": "execute_result"
    }
   ],
   "source": [
    "df2.isna().sum()"
   ]
  },
  {
   "cell_type": "code",
   "execution_count": 86,
   "id": "e2236e5b-0b1f-4dbf-827b-0ac50765d064",
   "metadata": {},
   "outputs": [
    {
     "data": {
      "text/plain": [
       "1.0"
      ]
     },
     "execution_count": 86,
     "metadata": {},
     "output_type": "execute_result"
    }
   ],
   "source": [
    "df['marital_status'].mode()[0]"
   ]
  },
  {
   "cell_type": "code",
   "execution_count": 87,
   "id": "c8a926bd-7fa5-472d-9b65-b86e3019579e",
   "metadata": {},
   "outputs": [
    {
     "data": {
      "text/plain": [
       "4975.947675682614"
      ]
     },
     "execution_count": 87,
     "metadata": {},
     "output_type": "execute_result"
    }
   ],
   "source": [
    "df['claim_est_payout'].mean()"
   ]
  },
  {
   "cell_type": "code",
   "execution_count": 88,
   "id": "bcdadf81-4fe2-4cfe-a445-b7a7aff36da3",
   "metadata": {},
   "outputs": [],
   "source": [
    "df2['marital_status'].fillna(df['marital_status'].mode()[0], inplace=True)\n",
    "df2['witness_present_ind'].fillna(df['witness_present_ind'].mode()[0], inplace=True)\n",
    "df2['claim_est_payout'].fillna(df['claim_est_payout'].mean(), inplace=True)\n",
    "df2['age_of_vehicle'].fillna(df['age_of_vehicle'].mean(), inplace=True)"
   ]
  },
  {
   "cell_type": "code",
   "execution_count": 89,
   "id": "4945b7c9-d236-4947-a091-d2cfe37b425d",
   "metadata": {},
   "outputs": [],
   "source": [
    "df2.drop(['claim_day_of_week', 'vehicle_category', 'vehicle_color', 'vehicle_weight', 'zip_code'], axis=1, inplace=True)"
   ]
  },
  {
   "cell_type": "code",
   "execution_count": 90,
   "id": "caae039f-9bd4-4a96-9d43-8f11ef746985",
   "metadata": {},
   "outputs": [],
   "source": [
    "just_dummies_2 = pd.get_dummies(df2[['gender', 'living_status', 'accident_site', 'channel']])"
   ]
  },
  {
   "cell_type": "code",
   "execution_count": 91,
   "id": "bd2812cc-5267-43e1-840a-53cb09155546",
   "metadata": {},
   "outputs": [],
   "source": [
    "df_with_dummies_2 = pd.concat([df2, just_dummies_2], axis=1)"
   ]
  },
  {
   "cell_type": "code",
   "execution_count": 92,
   "id": "7573e451-c72a-44a9-8ed4-6bc49ffbb2f2",
   "metadata": {},
   "outputs": [],
   "source": [
    "df_with_dummies_2.drop(['gender', 'living_status', 'accident_site', 'channel', 'claim_date', 'claim_number'], axis=1, inplace=True)"
   ]
  },
  {
   "cell_type": "code",
   "execution_count": 93,
   "id": "ac7d868d-3d8d-4b94-843d-e0c389d44889",
   "metadata": {},
   "outputs": [
    {
     "data": {
      "text/plain": [
       "Index(['age_of_driver', 'marital_status', 'safty_rating', 'annual_income',\n",
       "       'high_education_ind', 'address_change_ind', 'past_num_of_claims',\n",
       "       'witness_present_ind', 'liab_prct', 'policy_report_filed_ind',\n",
       "       'claim_est_payout', 'age_of_vehicle', 'vehicle_price', 'gender_F',\n",
       "       'gender_M', 'living_status_Own', 'living_status_Rent',\n",
       "       'accident_site_Highway', 'accident_site_Local',\n",
       "       'accident_site_Parking Lot', 'channel_Broker', 'channel_Online',\n",
       "       'channel_Phone'],\n",
       "      dtype='object')"
      ]
     },
     "execution_count": 93,
     "metadata": {},
     "output_type": "execute_result"
    }
   ],
   "source": [
    "df_with_dummies_2.columns"
   ]
  },
  {
   "cell_type": "code",
   "execution_count": 94,
   "id": "c67b7f27-155b-4e5c-ac3d-c75150ab61a8",
   "metadata": {
    "tags": []
   },
   "outputs": [
    {
     "data": {
      "text/plain": [
       "age_of_driver                  int64\n",
       "marital_status               float64\n",
       "safty_rating                   int64\n",
       "annual_income                  int64\n",
       "high_education_ind             int64\n",
       "address_change_ind             int64\n",
       "past_num_of_claims             int64\n",
       "witness_present_ind          float64\n",
       "liab_prct                      int64\n",
       "policy_report_filed_ind        int64\n",
       "claim_est_payout             float64\n",
       "age_of_vehicle               float64\n",
       "vehicle_price                float64\n",
       "gender_F                       uint8\n",
       "gender_M                       uint8\n",
       "living_status_Own              uint8\n",
       "living_status_Rent             uint8\n",
       "accident_site_Highway          uint8\n",
       "accident_site_Local            uint8\n",
       "accident_site_Parking Lot      uint8\n",
       "channel_Broker                 uint8\n",
       "channel_Online                 uint8\n",
       "channel_Phone                  uint8\n",
       "dtype: object"
      ]
     },
     "execution_count": 94,
     "metadata": {},
     "output_type": "execute_result"
    }
   ],
   "source": [
    "df_with_dummies_2.dtypes"
   ]
  },
  {
   "cell_type": "code",
   "execution_count": 95,
   "id": "9cfb6b83-4d2f-47da-91f6-b2047a0bc639",
   "metadata": {
    "tags": []
   },
   "outputs": [
    {
     "data": {
      "text/plain": [
       "age_of_driver                0\n",
       "marital_status               0\n",
       "safty_rating                 0\n",
       "annual_income                0\n",
       "high_education_ind           0\n",
       "address_change_ind           0\n",
       "past_num_of_claims           0\n",
       "witness_present_ind          0\n",
       "liab_prct                    0\n",
       "policy_report_filed_ind      0\n",
       "claim_est_payout             0\n",
       "age_of_vehicle               0\n",
       "vehicle_price                0\n",
       "gender_F                     0\n",
       "gender_M                     0\n",
       "living_status_Own            0\n",
       "living_status_Rent           0\n",
       "accident_site_Highway        0\n",
       "accident_site_Local          0\n",
       "accident_site_Parking Lot    0\n",
       "channel_Broker               0\n",
       "channel_Online               0\n",
       "channel_Phone                0\n",
       "dtype: int64"
      ]
     },
     "execution_count": 95,
     "metadata": {},
     "output_type": "execute_result"
    }
   ],
   "source": [
    "df_with_dummies_2.isna().sum()"
   ]
  },
  {
   "cell_type": "code",
   "execution_count": 96,
   "id": "c5e14abd-4144-411b-9678-7f0a21189d77",
   "metadata": {},
   "outputs": [
    {
     "name": "stderr",
     "output_type": "stream",
     "text": [
      "E:\\Anaconda\\lib\\site-packages\\sklearn\\linear_model\\_logistic.py:763: ConvergenceWarning: lbfgs failed to converge (status=1):\n",
      "STOP: TOTAL NO. of ITERATIONS REACHED LIMIT.\n",
      "\n",
      "Increase the number of iterations (max_iter) or scale the data as shown in:\n",
      "    https://scikit-learn.org/stable/modules/preprocessing.html\n",
      "Please also refer to the documentation for alternative solver options:\n",
      "    https://scikit-learn.org/stable/modules/linear_model.html#logistic-regression\n",
      "  n_iter_i = _check_optimize_result(\n"
     ]
    }
   ],
   "source": [
    "model = LogisticRegression(random_state=1)\n",
    "model.fit(X_rus, y_rus)\n",
    "\n",
    "y_pred = model.predict(df_with_dummies_2)"
   ]
  },
  {
   "cell_type": "code",
   "execution_count": 97,
   "id": "38817e5e-d58e-4fb3-8f02-a72866531c6b",
   "metadata": {},
   "outputs": [
    {
     "data": {
      "text/plain": [
       "array([1, 0, 1, ..., 1, 1, 0], dtype=int64)"
      ]
     },
     "execution_count": 97,
     "metadata": {},
     "output_type": "execute_result"
    }
   ],
   "source": [
    "y_pred"
   ]
  },
  {
   "cell_type": "code",
   "execution_count": 98,
   "id": "dcb6f10d-423b-4fe9-8cad-710112084848",
   "metadata": {},
   "outputs": [
    {
     "name": "stderr",
     "output_type": "stream",
     "text": [
      "E:\\Anaconda\\lib\\site-packages\\xgboost\\sklearn.py:1224: UserWarning: The use of label encoder in XGBClassifier is deprecated and will be removed in a future release. To remove this warning, do the following: 1) Pass option use_label_encoder=False when constructing XGBClassifier object; and 2) Encode your labels (y) as integers starting with 0, i.e. 0, 1, 2, ..., [num_class - 1].\n",
      "  warnings.warn(label_encoder_deprecation_msg, UserWarning)\n"
     ]
    },
    {
     "name": "stdout",
     "output_type": "stream",
     "text": [
      "[21:40:59] WARNING: D:\\bld\\xgboost-split_1634712635879\\work\\src\\learner.cc:1115: Starting in XGBoost 1.3.0, the default evaluation metric used with the objective 'binary:logistic' was changed from 'error' to 'logloss'. Explicitly set eval_metric if you'd like to restore the old behavior.\n"
     ]
    }
   ],
   "source": [
    "model2 = xgb.XGBClassifier(objective=\"binary:logistic\", random_state=42)\n",
    "model2.fit(X_rus, y_rus)\n",
    "\n",
    "y_pred2 = model2.predict(df_with_dummies_2)"
   ]
  },
  {
   "cell_type": "code",
   "execution_count": 99,
   "id": "2fdffb18-2cf7-43b9-a616-f79a3f92519f",
   "metadata": {},
   "outputs": [
    {
     "data": {
      "text/plain": [
       "array([1, 0, 0, ..., 1, 0, 1], dtype=int64)"
      ]
     },
     "execution_count": 99,
     "metadata": {},
     "output_type": "execute_result"
    }
   ],
   "source": [
    "y_pred2"
   ]
  },
  {
   "cell_type": "code",
   "execution_count": 100,
   "id": "446c2064-2b33-48c7-8f5e-cd404aab4bec",
   "metadata": {},
   "outputs": [
    {
     "data": {
      "text/plain": [
       "array([    2,     9,    11, ..., 29994, 29995, 29998], dtype=int64)"
      ]
     },
     "execution_count": 100,
     "metadata": {},
     "output_type": "execute_result"
    }
   ],
   "source": [
    "df2['claim_number'].values"
   ]
  },
  {
   "cell_type": "code",
   "execution_count": 101,
   "id": "4aeeeb5a-a5bc-40b3-ab5c-ede93747903c",
   "metadata": {},
   "outputs": [
    {
     "data": {
      "text/plain": [
       "array([1, 0, 1, ..., 1, 1, 0], dtype=int64)"
      ]
     },
     "execution_count": 101,
     "metadata": {},
     "output_type": "execute_result"
    }
   ],
   "source": [
    "y_pred"
   ]
  },
  {
   "cell_type": "code",
   "execution_count": 102,
   "id": "58fef1d8-33a5-4c15-b529-6a96d094a096",
   "metadata": {},
   "outputs": [],
   "source": [
    "# Logistic Regression Submission\n",
    "submission_1 = pd.DataFrame({'claim_number': df2['claim_number'].values, 'pred': y_pred})"
   ]
  },
  {
   "cell_type": "code",
   "execution_count": 103,
   "id": "c8c3413c-c107-411d-8685-493df099dc2d",
   "metadata": {},
   "outputs": [],
   "source": [
    "submission_1.to_csv('submission_1', encoding='utf-8', index=False)"
   ]
  },
  {
   "cell_type": "code",
   "execution_count": 104,
   "id": "1bcf323d-1225-4df0-80bc-67a24b264373",
   "metadata": {},
   "outputs": [],
   "source": [
    "# xgboost submission\n",
    "submission_2 = pd.DataFrame({'claim_number': df2['claim_number'].values, 'pred': y_pred2})"
   ]
  },
  {
   "cell_type": "code",
   "execution_count": 105,
   "id": "8ce4a73d-8acb-4bb0-b151-9ddbc20f4fdb",
   "metadata": {},
   "outputs": [],
   "source": [
    "submission_2.to_csv('submission_2', encoding='utf-8', index=False)"
   ]
  },
  {
   "cell_type": "code",
   "execution_count": 106,
   "id": "9ab76897-01d6-4101-bc05-2f852bdbbcaa",
   "metadata": {},
   "outputs": [
    {
     "name": "stdout",
     "output_type": "stream",
     "text": [
      "Fitting 5 folds for each of 324 candidates, totalling 1620 fits\n"
     ]
    },
    {
     "name": "stderr",
     "output_type": "stream",
     "text": [
      "E:\\Anaconda\\lib\\site-packages\\sklearn\\model_selection\\_search.py:918: UserWarning: One or more of the test scores are non-finite: [0.67686864 0.68363648 0.69060243 0.6894568  0.67805623 0.68775258\n",
      " 0.68685218 0.69061651 0.67288337 0.6833953  0.69074702 0.69054132\n",
      " 0.67426169 0.68444257 0.68941932 0.69281258 0.67441141 0.68830041\n",
      " 0.68910286 0.69121633 0.68316583 0.68912096 0.6904153  0.69040404\n",
      " 0.68143197 0.68313913 0.68930712 0.68984473 0.68377956 0.69136684\n",
      " 0.68845676 0.69346713 0.68192602 0.68487692 0.69036545 0.69368675\n",
      " 0.68055817 0.67544891 0.67977027 0.68212728 0.67477581 0.68077576\n",
      " 0.6818336  0.68125723 0.67693065 0.68052559 0.67805777 0.68404436\n",
      " 0.67229425 0.67858944 0.6819218  0.68304238 0.67742508 0.67790643\n",
      " 0.67820034 0.68067349 0.67113016 0.68110247 0.68303816 0.68301082\n",
      " 0.67730936 0.68149241 0.68123873 0.68074861 0.6738471  0.67755133\n",
      " 0.68286187 0.68301711 0.67334754 0.67890794 0.67858468 0.68331525\n",
      "        nan        nan        nan        nan        nan        nan\n",
      "        nan        nan        nan        nan        nan        nan\n",
      "        nan        nan        nan        nan        nan        nan\n",
      "        nan        nan        nan        nan        nan        nan\n",
      "        nan        nan        nan        nan        nan        nan\n",
      "        nan        nan        nan        nan        nan        nan\n",
      " 0.6926569  0.69877356 0.7050981  0.70560485 0.6896087  0.69779368\n",
      " 0.70408557 0.70581981 0.69252441 0.69965717 0.70353972 0.7067595\n",
      " 0.69033201 0.69820947 0.70461315 0.70729849 0.68876123 0.70137596\n",
      " 0.70765138 0.70798765 0.6918515  0.70467864 0.70580863 0.7055189\n",
      " 0.69094358 0.69593837 0.70537544 0.70784303 0.69683938 0.70071916\n",
      " 0.70549715 0.70657751 0.69309962 0.69600384 0.70464296 0.70506093\n",
      " 0.68841645 0.69826919 0.69933947 0.70202696 0.69813326 0.69941439\n",
      " 0.69699446 0.70305292 0.68799071 0.69594678 0.69993385 0.70132339\n",
      " 0.69180288 0.70041759 0.70423362 0.70324942 0.69496543 0.69706233\n",
      " 0.70215469 0.7026291  0.6915614  0.69854754 0.69853278 0.70140624\n",
      " 0.69187338 0.69433194 0.69964587 0.70105325 0.69311508 0.69173882\n",
      " 0.7020409  0.70348149 0.6936168  0.6981754  0.70242563 0.70310678\n",
      "        nan        nan        nan        nan        nan        nan\n",
      "        nan        nan        nan        nan        nan        nan\n",
      "        nan        nan        nan        nan        nan        nan\n",
      "        nan        nan        nan        nan        nan        nan\n",
      "        nan        nan        nan        nan        nan        nan\n",
      "        nan        nan        nan        nan        nan        nan\n",
      " 0.69801847 0.71260179 0.71942516 0.72129288 0.69207676 0.71132776\n",
      " 0.71711517 0.72162836 0.69225322 0.70921244 0.71978103 0.72190684\n",
      " 0.69863219 0.71129183 0.71605668 0.7216306  0.69450541 0.71377268\n",
      " 0.7202602  0.72079949 0.6919369  0.71171742 0.7178018  0.72167914\n",
      " 0.69795775 0.70821504 0.71857783 0.72137526 0.69650978 0.70987217\n",
      " 0.71703821 0.72099743 0.70032209 0.71280154 0.71590353 0.71964781\n",
      " 0.70311534 0.7140314  0.7158325  0.71837246 0.69669004 0.71262522\n",
      " 0.71295738 0.71650987 0.69909543 0.70653999 0.71422465 0.71564113\n",
      " 0.70319145 0.70766267 0.71377283 0.71880348 0.69488908 0.70457799\n",
      " 0.71560984 0.71754812 0.69274422 0.70900343 0.71485079 0.71584027\n",
      " 0.69893008 0.71060827 0.71125827 0.71581262 0.69445958 0.70813755\n",
      " 0.71314911 0.71632715 0.70439267 0.70426986 0.71304166 0.71616992\n",
      "        nan        nan        nan        nan        nan        nan\n",
      "        nan        nan        nan        nan        nan        nan\n",
      "        nan        nan        nan        nan        nan        nan\n",
      "        nan        nan        nan        nan        nan        nan\n",
      "        nan        nan        nan        nan        nan        nan\n",
      "        nan        nan        nan        nan        nan        nan]\n",
      "  warnings.warn(\n"
     ]
    },
    {
     "data": {
      "text/plain": [
       "GridSearchCV(cv=5, estimator=RandomForestClassifier(), n_jobs=2,\n",
       "             param_grid={'bootstrap': [True], 'max_depth': [3, 5, 8],\n",
       "                         'max_features': [5, 10, 25],\n",
       "                         'min_samples_leaf': [1, 3, 5],\n",
       "                         'min_samples_split': [2, 3, 5],\n",
       "                         'n_estimators': [10, 20, 50, 100]},\n",
       "             scoring='roc_auc', verbose=3)"
      ]
     },
     "execution_count": 106,
     "metadata": {},
     "output_type": "execute_result"
    }
   ],
   "source": [
    "params = {\n",
    "        'min_samples_leaf': [1, 3, 5],\n",
    "        'min_samples_split': [2, 3, 5],\n",
    "         'n_estimators': [10, 20, 50, 100],\n",
    "        'max_depth': [3, 5, 8],\n",
    "        'max_features': [5, 10, 25],\n",
    "        'bootstrap': [True]\n",
    "        }\n",
    "\n",
    "rf = RandomForestClassifier()\n",
    "\n",
    "from sklearn.model_selection import GridSearchCV\n",
    "# folds = 3\n",
    "# param_comb = 5\n",
    "# skf = StratifiedKFold(n_splits=folds, shuffle = True, random_state = 1001)\n",
    "# random_search = RandomizedSearchCV(rf, param_distributions=params, n_iter=param_comb, scoring='roc_auc', n_jobs=-1, cv=skf.split(X_train,y_train), verbose=3, random_state=1001 )\n",
    "\n",
    "# grid_search = GridSearchCV(rf, param_distributions=params, scoring='roc_auc', n_jobs=-1, cv=skf.split(X_train,y_train), verbose=3, random_state=1001 )\n",
    "\n",
    "grid_search = GridSearchCV(rf, params, scoring='roc_auc', n_jobs=2, cv=5, verbose=3)\n",
    "\n",
    "# start_time = timer(None)\n",
    "grid_search.fit(X_rus, y_rus)\n",
    "# timer(start_time)\n",
    "\n",
    "# Here we go\n",
    "# start_time = timer(None)\n",
    "# random_search.fit(X, Y)\n",
    "# timer(start_time)"
   ]
  },
  {
   "cell_type": "code",
   "execution_count": 107,
   "id": "fbe5b827-0bc8-4c48-a9fd-14e4fa6ec9c0",
   "metadata": {},
   "outputs": [
    {
     "data": {
      "text/plain": [
       "array([1, 0, 0, ..., 1, 0, 0], dtype=int64)"
      ]
     },
     "execution_count": 107,
     "metadata": {},
     "output_type": "execute_result"
    }
   ],
   "source": [
    "y_pred3 = grid_search.predict(df_with_dummies_2)\n",
    "y_pred3"
   ]
  },
  {
   "cell_type": "code",
   "execution_count": 108,
   "id": "466e013c-e9d4-4db1-8c67-04759252694a",
   "metadata": {},
   "outputs": [],
   "source": [
    "# rf with parameter tuning\n",
    "submission_3 = pd.DataFrame({'claim_number': df2['claim_number'].values, 'pred': y_pred3})"
   ]
  },
  {
   "cell_type": "code",
   "execution_count": 109,
   "id": "4d5bd736-bce3-4245-b7ed-4aad62110f47",
   "metadata": {},
   "outputs": [],
   "source": [
    "submission_3.to_csv('submission_3', encoding='utf-8', index=False)"
   ]
  },
  {
   "cell_type": "code",
   "execution_count": 110,
   "id": "c7050418-ce0d-4752-b648-8e33c90998a2",
   "metadata": {},
   "outputs": [
    {
     "name": "stdout",
     "output_type": "stream",
     "text": [
      "Fitting 5 folds for each of 540 candidates, totalling 2700 fits\n"
     ]
    },
    {
     "name": "stderr",
     "output_type": "stream",
     "text": [
      "E:\\Anaconda\\lib\\site-packages\\xgboost\\sklearn.py:1224: UserWarning: The use of label encoder in XGBClassifier is deprecated and will be removed in a future release. To remove this warning, do the following: 1) Pass option use_label_encoder=False when constructing XGBClassifier object; and 2) Encode your labels (y) as integers starting with 0, i.e. 0, 1, 2, ..., [num_class - 1].\n",
      "  warnings.warn(label_encoder_deprecation_msg, UserWarning)\n"
     ]
    },
    {
     "name": "stdout",
     "output_type": "stream",
     "text": [
      "[22:24:38] WARNING: D:\\bld\\xgboost-split_1634712635879\\work\\src\\learner.cc:1115: Starting in XGBoost 1.3.0, the default evaluation metric used with the objective 'binary:logistic' was changed from 'error' to 'logloss'. Explicitly set eval_metric if you'd like to restore the old behavior.\n"
     ]
    },
    {
     "data": {
      "text/plain": [
       "GridSearchCV(cv=5,\n",
       "             estimator=XGBClassifier(base_score=None, booster=None,\n",
       "                                     colsample_bylevel=None,\n",
       "                                     colsample_bynode=None,\n",
       "                                     colsample_bytree=None,\n",
       "                                     enable_categorical=False, gamma=None,\n",
       "                                     gpu_id=None, importance_type=None,\n",
       "                                     interaction_constraints=None,\n",
       "                                     learning_rate=None, max_delta_step=None,\n",
       "                                     max_depth=None, min_child_weight=None,\n",
       "                                     missing=nan, monotone_constraints=None,...\n",
       "                                     random_state=42, reg_alpha=None,\n",
       "                                     reg_lambda=None, scale_pos_weight=None,\n",
       "                                     subsample=None, tree_method=None,\n",
       "                                     validate_parameters=None, verbosity=None),\n",
       "             n_jobs=5,\n",
       "             param_grid={'colsample_bytree': [0.6, 0.8, 1.0],\n",
       "                         'gamma': [0.5, 1, 1.5, 2, 5], 'learning_rate': [0.05],\n",
       "                         'max_depth': [3, 4, 5],\n",
       "                         'min_child_weight': [1, 5, 10, 11],\n",
       "                         'n_estimators': [1000], 'subsample': [0.6, 0.8, 1.0]},\n",
       "             scoring='roc_auc', verbose=2)"
      ]
     },
     "execution_count": 110,
     "metadata": {},
     "output_type": "execute_result"
    }
   ],
   "source": [
    "params2 = {\n",
    "         'min_child_weight': [1, 5, 10, 11],\n",
    "         'gamma': [0.5, 1, 1.5, 2, 5],\n",
    "         'subsample': [0.6, 0.8, 1.0],\n",
    "         'colsample_bytree': [0.6, 0.8, 1.0],\n",
    "         'max_depth': [3, 4, 5],\n",
    "         'n_estimators': [1000],\n",
    "         'learning_rate': [0.05]\n",
    "         }\n",
    "\n",
    "model3 = xgb.XGBClassifier(objective=\"binary:logistic\", random_state=42)\n",
    "\n",
    "grid_search2 = GridSearchCV(model3, params2, scoring='roc_auc', n_jobs=5, cv=5, verbose=2, refit=True)\n",
    "\n",
    "grid_search2.fit(X_rus, y_rus)"
   ]
  },
  {
   "cell_type": "code",
   "execution_count": 111,
   "id": "2fbb6ba8-514f-45e3-a322-65a13e134257",
   "metadata": {},
   "outputs": [
    {
     "data": {
      "text/plain": [
       "array([0, 0, 0, ..., 1, 0, 1], dtype=int64)"
      ]
     },
     "execution_count": 111,
     "metadata": {},
     "output_type": "execute_result"
    }
   ],
   "source": [
    "y_pred4 = grid_search2.predict(df_with_dummies_2)\n",
    "y_pred4"
   ]
  },
  {
   "cell_type": "code",
   "execution_count": 112,
   "id": "1b399c41-4b24-417e-bc71-4b3f2ce16072",
   "metadata": {},
   "outputs": [],
   "source": [
    "submission_4 = pd.DataFrame({'claim_number': df2['claim_number'].values, 'pred': y_pred4})"
   ]
  },
  {
   "cell_type": "code",
   "execution_count": 113,
   "id": "971b5d4c-157d-445c-9b06-ff7d811cb2f8",
   "metadata": {},
   "outputs": [],
   "source": [
    "submission_4.to_csv('submission_4', encoding='utf-8', index=False)"
   ]
  },
  {
   "cell_type": "code",
   "execution_count": null,
   "id": "c1c7a3b6-26d5-49f1-bbdb-4ff575348c7c",
   "metadata": {},
   "outputs": [],
   "source": []
  }
 ],
 "metadata": {
  "kernelspec": {
   "display_name": "Python 3",
   "language": "python",
   "name": "python3"
  },
  "language_info": {
   "codemirror_mode": {
    "name": "ipython",
    "version": 3
   },
   "file_extension": ".py",
   "mimetype": "text/x-python",
   "name": "python",
   "nbconvert_exporter": "python",
   "pygments_lexer": "ipython3",
   "version": "3.8.8"
  }
 },
 "nbformat": 4,
 "nbformat_minor": 5
}
